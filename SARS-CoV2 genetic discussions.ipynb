{
 "cells": [
  {
   "cell_type": "markdown",
   "metadata": {},
   "source": [
    "**Notes on the genetic structure of SARS-CoV2**"
   ]
  },
  {
   "cell_type": "markdown",
   "metadata": {},
   "source": [
    "An anonymous scientist on a blog by the name of \"Nerd Has Power\" published some interesting observations regarding the structure of the SARS-CoV2 and its similarities to the RaTG13 virus. I am including his blog content with a link, as well as some attempt at reproducing his findings with R."
   ]
  },
  {
   "cell_type": "markdown",
   "metadata": {},
   "source": [
    "What follows is a direct transcription from [here](https://nerdhaspower.weebly.com):\n",
    "\n",
    "There has been much controversy regarding the origin of the Wuhan coronavirus. It appears that both possibilities, naturally occurring or man-made, are legitimate enough to be debated fully. However, although voices on social media are equally strong from both sides, when it comes to written pieces, there is a predominance of scientific literature and other forms of writing that were produced to disapprove the “conspiracy theory”. In contrast, not nearly as much literature or other forms of substantial writing have been put out to describe or argue for the other possibility – this virus is man-made.  My goal here is to use scientific evidence and logical thinking to evaluate, and legitimate, the possibility that the Wuhan coronavirus (2019-nCoV, SARS2-CoV, etc.) is of non-natural origin. \n",
    " \n",
    "Importantly, I will base my reasoning on solid, credible evidence; I will exclude any unqualified evidence that may have been thrown in by the Chinese Communist Party (CCP) with an intention to disturb the “investigation” and thereby cover up the truth. My role or perspective here can be considered as a combination of a scientific reviewer, a detective, and a judge on a criminal trial. \n",
    " \n",
    "Why are people suspicious of the origin of the Wuhan coronavirus\n",
    " \n",
    "This has a lot to do with how the sequence of this virus (in other words, its genome) compares with those of related coronaviruses. \n",
    " \n",
    "When comparing sequences, one can compare either gene sequences or protein sequences. For viruses, however, this makes almost no difference as the whole genome of a virus is practically translated into proteins (in fact, a virus typically produces a single polyprotein by translating its entire genome and then cuts this long polyprotein at specific places to produce a set of particular proteins for specific use). Here, we will compare different viruses only on their protein sequences. \n",
    " \n",
    "By doing such a comparison, one can see that the Wuhan coronavirus is about 86% identical to the SARS coronavirus, which caused a pandemic back in 2003. This level of sequence identity basically says that the Wuhan coronavirus could not have come from SARS, something the field agrees unanimously.  \n",
    " \n",
    "At the same time, the Wuhan coronavirus is STRANGELY similar to two bat coronaviruses, ZC45 and ZXC21. Overall, the sequence of either of the two bat coronaviruses is 95% identical to the Wuhan coronavirus. In fact, for most part of the genome, such level of identity is maintained or even surpassed. The E protein, in particular, is 100% identical. The nucleocapsid is 94% identical. The membrane protein is 98.6% identical. The S2 portion (2nd half) of the spike protein is 95% identical. However, when it comes to the S1 portion (1st half) of the spike protein, the sequence identity suddenly drops to 69%. This pattern of sequence conservation, between either of the closely related bat coronaviruses and the Wuhan coronavirus, is extremely rare and strange!\n",
    " \n",
    "This is extremely rare because natural evolution typically takes place when changes (mutations) occur randomly across the whole genome. You would then expect the rate of mutation being more or less the same for all parts of the genome. \n",
    " \n",
    "Could other forms of evolution lead to such a strange pattern of sequence identity? Yes, there is one evolutionary event that could lead to drastic changes in only one part of the genome. It is what is called “recombination”. We would defer to the next section to explain why recombination is also practically impossible in this case.\n",
    " \n",
    "For now, let’s fix our eyes on the part that is seeing this sudden drop of sequence identity, the S1 portion of the spike protein. \n",
    "\n",
    "Spike proteins are the protrusions that you see on the outside of the virus particle (Figure 1). They are literally responsible for the name “corona” as they make the virus look like a “crown”. However, spike proteins are located here for reasons beyond decoration. They are actually the “key” that coronaviruses use to open the “lock” so that viruses can enter our (host) cells. \n",
    " \n",
    "Three spike proteins have to come together to function properly as the “key”. This three-protein assembly is what they call a “trimer”. To form this trimer, you would need the blue portion of the spike protein, which is referred to as S2 of spike. This S2 part can be regarded as the part of the “key” that you hold with your fingers; it does not actually go into the lock. However, for this “key” to work, S2 has to be there and has to preserve the ability of forming trimers. \n",
    " \n",
    "The other half of spike, the red portion or what is referred to as S1, is responsible for binding the host receptor. S1 can be considered as the portion of the “key” that literally enters the “lock”. It has to fit precisely to the delicate shape of the “lock” (host receptor) so that the “door opening” action can be accomplished. Whether or not a particular “lock” can be opened by a specific “key” is decided exclusively by this S1 part of spike. In other words, S1 of a coronavirus dictates which host(s) or cells the virus can infect.\n",
    " \n",
    "Now you may be able to appreciate what I call extremely strange. While everything else of the Wuhan coronavirus remains almost identical to the two bat coronaviruses, the S1 portion, which dictates which host a coronavirus targets, has changed significantly from the two bat coronaviruses to the Wuhan coronavirus.\n",
    " \n",
    "Let’s zoom in further (Figure 2C) and look at the exact part on S1 that dictates whether or not S1 binds a host receptor (in this case, the human ACE2 protein). This most critical part of S1 is a relatively small stretch of amino acids, labeled in orange in Figure 2C with important residues shown as sticks. This part includes everything needed for interacting with the human ACE2 receptor. You will see below how this segment, known to be unique to the SARS spike and sufficient for its interaction with human ACE2, is practically “copied” over by the Wuhan coronavirus.\n",
    "\n",
    "![image](https://user-images.githubusercontent.com/9312897/82109769-b9bd2480-9706-11ea-98ba-b6cae6e866d0.png)\n",
    "\n",
    ">Figure 2. Structure of the SARS spike protein and how it binds to human ACE2 receptor. Pictures generated using the published structure (PDB ID: 6acj) (2). A) Three spike proteins, each consisting of a S1 half and a S2 half, form a trimer. B) The S2 halves (shades of blue) are responsible for trimer formation, while the S1 portion (shades of red) is important for binding human receptor ACE2 (dark gray). C) Details of the binding between S1 and human ACE2. The part of S1 that is important and sufficient for binding are colored in orange, with most crucial amino acid sidechains shown as sticks. This orange piece is presumably what’s “taken out of” SARS spike and “inserted” into a bat coronavirus spike protein, thereby creating a novel human-infecting coronavirus.\n",
    "\n",
    "![image](https://user-images.githubusercontent.com/9312897/82109818-11f42680-9707-11ea-936e-7981a9decf88.png)\n",
    "\n",
    ">Figure 3. Sequence alignment of the spike proteins from relevant coronaviruses, including viruses isolated from current pandemic (Wuhan-Hu-1, 2019-nCoV_USA-AZ1), closely related bat coronaviruses (Bat_CoV_ZC45, Bat_CoV_ZXC21), and SARS coronaviruses (SARS_GZ02, SARS). Region marked by orange lines is the segment important for interaction with human receptor ACE2. Crucial residues for interaction are additionally highlighted by a red stick on top. Region marked by green lines is a furin-cleavage site that exists only in the Wuhan coronaviruses but not in any other beta coronaviruses. Alignment was done using the MultAlin webserver (http://multalin.toulouse.inra.fr/multalin/).\n",
    "\n",
    "Figure 3 is the sequence alignment of the spike proteins from six coronaviruses. Two are viruses isolated from current pandemic (Wuhan-Hu-1, 2019-nCoV_USA-AZ1); two are closely related bat coronaviruses (Bat_CoV_ZC45, Bat_CoV_ZXC21); two are SARS coronaviruses (SARS_GZ02, SARS). By glancing through this figure, you can easily tell that the second half of spike (690 and beyond), namely S2, look pretty much the same for all six viruses. The difference is in the front half (1-~690), or the S1 portion. Now if you look at the top four sequences — the two Wuhan coronaviruses and two bat coronaviruses, you can see that they are largely the same across the S1 half of spike. Only a couple of places are different. However, the details of these differences and the way the human and the bat viruses differ from each other here in S1, in my and many other people’s eyes, practically spell out the origin of the Wuhan coronavirus – it is created by people, not by nature. \n",
    " \n",
    "First important difference is what is highlighted in between two orange lines in Figure 3. Clearly, this part of the Wuhan coronavirus spike differs significantly from those of the bat virus spikes, despite the overall high identity between them. Intriguingly, this same segment of the Wuhan coronavirus resembles, on a great deal, the corresponding piece on the SARS spike protein. Indeed, this is precisely the region highlighted in Figure 2C in orange. As we have pointed out earlier, this segment contains everything needed for human ACE2 interaction. Here, it seems that this critical piece was “copied” from the SARS spike protein and then “pasted” into a bat coronavirus. \n",
    " \n",
    "There are of course differences between these two, which may make it seem unlikely a direct “copy and paste”. However, careful examination shows that all residues essential for binding (orange sticks in Figure 2C and residues highlighted by red short lines in figure 3) are either precisely preserved or substituted with residues of similar properties. At the same time, differences lie mostly at residues non-essential for binding ACE2. Judging from this observation, one can safely envision that not only Wuhan coronavirus spike will bind ACE2 but also it will bind ACE2 exactly the same way that SARS spike does (Figure 2BC).\n",
    " \n",
    "For the two bat coronaviruses here, given how they lack many of the key residues (what is marked by red sticks in Figure 3) for binding human ACE2, it is easy to predict that these two bat viruses would not be able to infect human.\n",
    " \n",
    "The Wuhan coronavirus, while being almost identical to their bat relatives (ZC45 and ZXC21) everywhere else, has somehow “inherited” the critical, short piece from SARS spike to replace the incompetent piece in the bat coronavirus spike. As a result of this miraculous “replacement” in S1 — all key residues preserved and many non-essential residues changed, the Wuhan coronavirus has practically “acquired” the ability to infect humans, something its closest bat relatives do not have.\n",
    " \n",
    "Could natural evolution achieve something this precise and, at the same time, this deceptive???\n",
    " \n",
    "If you have not been “awed” enough, let’s move on to appreciate magic trick #2. Please look at the region marked by two green lines in Figure 3. Here only the Wuhan coronaviruses contain an additional piece, SPRRA. Importantly, this added piece allows the spike protein to be readily cleaved by a host protease enzyme – furin, a desirable property known to produce more infectious viruses in the case of influenza. Note that no beta coronaviruses in the same lineage (lineage B), except this new Wuhan coronavirus, contain such a furin-cleavage site. \n",
    " \n",
    "Further explanation on why these changes could not have come from nature\n",
    " \n",
    "We have briefly explained why random mutations could not result in the weird pattern of sequence identity between the Wuhan coronavirus and related bat coronaviruses, ZC45 or ZXC21. Let’s dig a little deeper here. Although the spike proteins of different coronaviruses are more likely to differ, greater discrepancy in S1 may only be expected if two viruses have been long separated during evolution and have adapted, through random mutation, to their respective hosts for a long, long time. In that scenario, the overall sequence identity would be low as well. In the present case, however, the sequence identity between either of the bat coronavirus and the Wuhan coronavirus is over 95%, suggesting these two viral lineages must have diverged from each other fairly recently. Therefore, a sequence identity of 69% for the S1 portion of spike protein is simply insane. The S1 of Wuhan coronavirus could not have originated from the S1 of a bat coronavirus, a recent common ancestor that the Wuhan virus shares with ZC45 and ZXC21, through random mutations.\n",
    " \n",
    "Now let me explain why recombination also could not be responsible for the observed pattern.\n",
    " \n",
    "What happens in a recombination event is that one segment of a gene can be “replaced” by a similar segment from another gene. In evolution, recombination events happen much less frequently than random mutations. When recombination happens, however, it often brings abrupt changes to certain areas of the genome. \n",
    " \n",
    "If naturally-occurring recombination event(s) lead to the creation of the Wuhan coronavirus, how would it transpire? First, it would have to take place when an ancestor bat coronavirus, something very similar to ZC45 or ZXC21, co-existed with another coronavirus in the same cell of the same animal. Under extremely rare circumstances, recombination may occur, where a random piece in the ancestor’s genome is replaced by a similar but different piece from the other coronavirus. Importantly, to go from such ancestor to the Wuhan coronavirus, one combination event is not enough. What has to happen is that recombination has to take place twice during the evolution of the Wuhan coronavirus. In one occasion, the ancestor bat coronavirus would have to acquire, through recombination with a SARS-like coronavirus, the precise short segment of S1 that is responsible for human ACE2 interaction (region highlighted in orange in both Figure 2 and Figure 3). In another occasion, the “improved” bat coronavirus would further swap in a furin-cleavage site through recombination with yet another coronavirus that carries a furin-cleavage site between its S1 and S2 of spike. \n",
    " \n",
    "Also, again, given the overall high sequence identity (95%) between the bat coronaviruses and the Wuhan coronavirus, it is reasonable to believe that these two diverged from each other fairly recently. Therefore, both recombination events must have taken place fairly recently as well.\n",
    " \n",
    "Now, we know that SARS crossing over to infect human is a very rare event. To have another SARS-like sequence exist in nature so that the ancestor bat coronavirus can do recombination with is a very unlike event. Not to mention that this SARS-like virus must have a spike that binds ACE2 the same way as SARS and yet the piece of S1 that is most critical for binding ACE2 would differ with that of SARS spike only at non-essential sites. On top of that, furin-cleavge site has not been observed in any beta coronaviruses in the same lineage so far. Although similar furin-cleavage sites have been observed in other coronaviruses, none of them contains the same exact sequence. Therefore, the chance that the furin-cleavage site in the Wuhan coronavirus was obtained through recombination with another furin-cleavage-site-containing coronavirus is very low.\n",
    " \n",
    "Now, what are chances for both of these next-to-impossible recombination events to take place? My answer is NO CHANCE. This Wuhan coronavirus cannot be coming from nature.\n",
    " \n",
    "Why some literature has to be excluded in the analysis\n",
    " \n",
    "Someone who has been following the recent literature on this topic would point out that the above analysis failed to take into account some crucial evidence. Such evidence, coincidentally, supports a natural origin of the Wuhan coronavirus. Then how dare I leave it out in my analysis?\n",
    " \n",
    "The short answer: that “evidence” was very likely fabricated. \n",
    " \n",
    "Please allow me to switch my mode now, from a scientist to a detective or a judge. If we consider this matter as a crime under investigation, then we have so far one big suspect, Dr. Zhengli Shi from the Wuhan Institute of Virology and the biosafety level 4 (P4) lab for virology research. As the top coronavirus expert in China, since the beginning of the outbreak, Zhengli Shi has been singled out as THE suspect who may have created this virus, which somehow leaked out of the P4 lab. Intriguingly, Shi published an interesting paper in Nature a couple of weeks ago (3). There she compared the freshly obtained sequence of the Wuhan coronavirus with those of other beta coronaviruses, which allowed her to delineate an evolutionary path of this new virus. All of a sudden, out of nowhere, she reported a bat coronavirus, RaTG13, which shares high sequence identity with the Wuhan coronavirus. Strikingly, between RaTG13 and the Wuhan virus, the mutational rate is low (or sequence identity is high, 98.5%) for all parts of the genome, including the spike protein. If we have questioned the origin of the Wuhan coronavirus because of the weird pattern of sequence conservation between the Wuhan coronavirus and the two bat coronaviruses, ZC45 and ZXC21, then RaTG13 does not show any concern in that regard. Here, the spike protein is just as conserved as other proteins. From the first look, it seems that RaTG13 belongs to the same small lineage as the Wuhan coronavirus and that the two must share a very recent common ancestor. Such finding strongly suggests a natural origin of the Wuhan coronavirus. This paper reporting the RaTG13 coronavirus (3) is the evidence that I “failed” to take into account in the earlier analysis.\n",
    " \n",
    "According to credible sources, Shi has admitted to several individuals in the field that she does not have a physical copy of this RaTG13 virus. Her lab allegedly collected some bat feces about 7 years ago and analyzed these samples for possible presence of coronaviruses based on genetic evidence. To put it into plainer words, she has no physical proof for the existence of this RaTG13 virus. She only has its sequence information, which is nothing but a string of letters alternating between A, T, G, and C. \n",
    " \n",
    "Can the sequence be fabricated? It cannot be any easier. It takes a person less than a day to TYPE such a sequence (less than 30,000 letters) in a word file. And it would be a thousand times easier if you already have a template that is about 98% identical to the one you are trying to create. Once the typing is finished, one can upload the sequence onto the public database, without being really questioned for its authenticity or correctness. Once uploaded and released, such sequence data becomes public and can be used legitimately in scientific analysis and publications.\n",
    " \n",
    "Then, can this RaTG13 sequence be used as evidence in judging the matter? Well, remember, a central part of the matter is whether or not this Wuhan coronavirus is engineered or created by ZHENGLI SHI. It is Shi, not anybody else, who is the biggest suspect of this possible crime that is grander than any other crime ever committed in human history. Given the circumstances, if the evidence she raised to prove herself innocent is nothing but a bunch of letters recently typed in a word file, should anyone treat it as valid evidence?\n",
    " \n",
    "Unfortunately, in several recent reports, scientists indeed based their analyses on this RaTG13 sequence and thereby reached conclusions such as the Wuhan coronavirus is a result of natural evolution. I hope you now agree that these conclusions could not be trusted because they are based on data that is most likely FABRICATED BY SHI. \n",
    " \n",
    "Now, let us think about this from the other direction. The RaTG13 virus has a highly alarming sequence. Glancing at the sequence of the spike protein of this virus, any expert would immediately realize that this virus resembles SARS in its potential in binding human ACE2 and therefore may very likely be able to infect humans. Shi herself is such an expert. According to Shi, her lab studies bat coronaviruses so that they could someday predict novel coronavirus outbreaks and better prepare the public for such events. If her statement is true, then how could she possibly overlook this extremely interesting finding of RaTG13, something that clearly has the potential to infect humans? If this RaTG13 was discovered SEVEN years ago, why did Shi not publish this astonishing finding earlier? Why did she decide to publish such a sequence only when the current outbreak took place and people started questioning the origin of the Wuhan coronavirus? \n",
    " \n",
    "None of these make sense. All in all, these facts should make people question Zhengli Shi even more in terms of her possible involvement in the matter; she either was directly involved in the creation of this virus/bioweapon, or helped cover it up, or both. Of course, these facts also speak the necessity to exclude this RaTG13 sequence from any scientific analysis.\n",
    "\n",
    "The same goes to the notion that pangolins might be the intermediate host responsible for transmitting the virus from bats to humans. In early Feb, a press conference was held, where three researchers from South China Agriculture University (SCAU) claimed that their recent findings point to Pangolin as a possible intermediate host. First of all, the timing of the press conference is interesting – just when people are saying that bat viruses cannot directly infect humans and an intermediate host must exist (where the viral spike protein would “learn”/adapt to bind an ACE2 similar to human ACE2). When something MUST exist to favor the side of the CCP, this something always miraculously appears, just like Shi’s RaTG13. This time, it is the Pangolin coronavirus. Before even publishing the paper, these researchers showed their evidence – sequence of the receptor binding domain of the pangolin coronavirus that looks almost identical to the Wuhan coronavirus. Again, no live virus exists here, just the sequence (not even released back then). It is the same deal as the RaTG13 case; a person can literally type this sequence out in a few minutes. Therefore, for similar reasons, one has to be extremely cautious and alert that this may again be fabricated by the CCP with an intention to help cover up the truth. \n",
    " \n",
    "Fortunately, the field seems to have excused pangolins. The pangolin coronavirus sequence that was finally released by the SCAU group and another research group in Hong Kong fell short in convincing people about pangolin’s role as an intermediate host (4, 5). This is in part because, according to its sequence, the pangolin coronavirus also does not have the furin-cleavage site. \n",
    " \n",
    "Nonetheless, like RaTG13, these recent papers claiming the role of pangolin as an intermediate host should be discarded (4, 5). In fact, very recently, these SCAU researchers admitted to the press that, upon further analysis of the complete sequence of the Pangolin coronavirus, they also do not believe Pangolin is a possible intermediate host of the Wuhan coronavirus. \n",
    " \n",
    "Some scientific literature that deserves the spotlight\n",
    " \n",
    "We have just laid out the reasons why certain “scientific evidence” should be excluded. Now let us switch over to see why some other scientific evidence deserves our complete attention. \n",
    " \n",
    "First, the two bat coronaviruses, ZC45 and ZXC21, that are STRANGELY CLOSE to the Wuhan coronavirus were collected by a military research lab of the CCP. They published the finding and the sequences of these two viruses back in 2018 (6). I want to emphasize two facts here: 1) if the Wuhan coronavirus was man-made, then it must have been created using ZC45 or ZXC21 as a template; 2) nobody in this world has these bat coronaviruses, except for the CCP as evidenced by this publication.\n",
    " \n",
    "Second, Zhengli Shi co-authored a paper in Nature Medicine back in 2015 (7), where she collaborated with Ralph Baric at the University of North Carolina to show that replacing the spike protein of a non-human-infecting coronavirus with a spike protein capable of binding human ACE2 led to a novel coronavirus that gained the ability to infect humans. Now, what is happening in the Wuhan coronavirus essentially follows the same scheme; the changes, although minimal, are sufficient to turn the bat coronavirus into a virus that can infect humans. The only difference is that, when changes are this subtle, tracing the origin of the virus becomes much difficult.\n",
    " \n",
    "Third, a 2006 publication showed that inserting a furin-cleavage site in the junction region of S1 and S2 of spike of the SARS coronavirus led to much enhanced membrane fusion activity of the virus (8). Although viral infectivity enhancement was not observed in their study using pseudo viruses, presence of such furin-cleavage sites is known to be associated with high pathogenicity in influenza virus infections. Miraculously, this is precisely what is observed in the Wuhan coronavirus (region marked by two green lines in Figure 3). Furthermore, influenza viruses containing such furin-cleavage sites often infect a greater variety of cells and are therefore more likely to target organs in addition to the lung. Now you should recall multiple recent reports describing that the Wuhan coronavirus infects multiple organs, including lung, heart, blood vein, liver, central nerve system, etc. \n",
    " \n",
    "Simple and yet clear logic on how this Wuhan coronavirus may be made by the CCP\n",
    " \n",
    "If you put the pieces together, you should be able to appreciate how easily this virus can be created by the CCP. Obviously, the starting virus template used here, either ZC45 or ZXC21, is owned only by the CCP (6). What they would do then was to modify things such that this bat coronavirus, non-infectious to humans, could be converted to a novel coronavirus that infects humans with high efficiency. They did so by following two published concepts (7, 8): 1) they converted the crucial spike protein to something that follows the scheme of the SARS spike protein so that the virus can target human ACE2; 2) they inserted a furin-cleavage site in between S1 and S2 of spike, which may make the virus more pathogenic. These two concepts are the only ones out there to get such a job done. Yet, miraculously, they are being followed precisely here. If it were mother nature who has created this virus, then mother nature must have studied recent scientific literatures very carefully and followed these key findings faithfully in her work (2, 6-8).\n",
    " \n",
    "Also, let’s go back a little and think why they spend so much time fetching coronaviruses all over the place. Is it really like what they claimed – to understand the potentials of coronaviruses and therefore better predict future emerging coronaviruses? Why didn’t they put as much effort on vaccine research or drug discovery targeting a function/protein conserved in most coronaviruses then? The latter is not only more beneficial to the public but also way easier than predicting emerging viruses. \n",
    " \n",
    "Another possibility, of course, is that they are collecting these things to create coronavirus-based bioweapons. What is the truth? You can make up your own mind.\n",
    " \n",
    "As of me, I am fully convinced that this is a bioweapon made by the CCP.\n",
    " \n",
    "Given all the facts and the logic connecting them as laid out above, it is completely reasonable to argue that, unless the CCP can prove otherwise, the world has all the right to believe that the Wuhan coronavirus was made by the CCP.\n",
    " \n",
    " \n",
    "Reference\n",
    " \n",
    "1.         Daniel Wrapp NW, Kizzmekia S. Corbett, Jory A. Goldsmith, Ching-Lin Hsieh, Olubukola Abiona, Barney S. Graham, Jason S. McLellan. Cryo-EM Structure of the 2019-nCoV Spike in the Prefusion Conformation. Science. 2020.\n",
    "2.         Song W, Gui M, Wang X, Xiang Y. Cryo-EM structure of the SARS coronavirus spike glycoprotein in complex with its host cell receptor ACE2. PLoS Pathog. 2018;14(8):e1007236.\n",
    "3.         Zhou P, Yang XL, Wang XG, Hu B, Zhang L, Zhang W, et al. A pneumonia outbreak associated with a new coronavirus of probable bat origin. Nature. 2020.\n",
    "4.         Kangpeng Xiao JZ, Yaoyu Feng, Niu Zhou, Xu Zhang, Jie-Jian Zou, Na Li, Yaqiong Guo, Xiaobing Li, Xuejuan Shen, Zhipeng Zhang, Fanfan Shu, Wanyi Huang, Yu Li, Ziding Zhang, Rui-Ai Chen, Ya-Jiang Wu, Shi-Ming Peng, Mian Huang, Wei-Jun Xie, Qin-Hui Cai, Fang-Hui Hou, Yahong Liu, Wu Chen, Lihua Xiao, Yongyi Shen. Isolation and Characterization of 2019-nCoV-like Coronavirus from Malayan Pangolins. bioRxiv. 2020.\n",
    "5.         Tommy Tsan-Yuk Lam MH-HS, Hua-Chen Zhu, Yi-Gang Tong, Xue-Bing Ni, Yun-Shi Liao, Wei Wei, William Yiu-Man Cheung, Wen-Juan Li, Lian-Feng Li, Gabriel M Leung, Edward C. Holmes, Yan-Ling Hu, Yi Guan. Identification of 2019-nCoV related coronaviruses in Malayan pangolins in southern China. bioRxiv. 2020.\n",
    "6.         Hu D, Zhu C, Ai L, He T, Wang Y, Ye F, et al. Genomic characterization and infectivity of a novel SARS-like coronavirus in Chinese bats. Emerg Microbes Infect. 2018;7(1):154.\n",
    "7.         Menachery VD, Yount BL, Jr., Debbink K, Agnihothram S, Gralinski LE, Plante JA, et al. A SARS-like cluster of circulating bat coronaviruses shows potential for human emergence. Nat Med. 2015;21(12):1508-13.\n",
    "8.         Follis KE, York J, Nunberg JH. Furin cleavage of the SARS coronavirus spike glycoprotein enhances cell-cell fusion but does not affect virion entry. Virology. 2006;350(2):358-69.\n"
   ]
  },
  {
   "cell_type": "markdown",
   "metadata": {},
   "source": [
    "Directly transcribed from [here](https://nerdhaspower.weebly.com/ratg13-is-fake.html): \n",
    "**RaTG13 – the undeniable evidence that the Wuhan coronavirus is man-made**\n",
    "\n",
    "GNEWS: https://gnews.org/192144/. Unfortunately, the GNEWS version has a few editing errors. So, I am posting the draft here as well. If you have read my earlier writing before, sorry for repeating some of the things here again. In that case, please skip the first section “who dares to carry out such a deceitful action”. Thank you!)\n",
    "\n",
    "What is the true origin of the Wuhan coronavirus (SARS-CoV-2, 2019nCoV, the CCP virus)? Many scientific publications seem to tell you that the virus was born from nature. How reliable are these publications? While, before I comment on that, I would like to bring out an important fact: all of such publications rely on a single evidence – the sequence of a bat coronavirus named RaTG13. \n",
    " \n",
    "RaTG13 looks like a “close cousin” of the Wuhan coronavirus – the two are 96% identical throughout the whole sequence of the viral genome. If RaTG13 is a nature-borne virus, one can comfortably conclude that the Wuhan coronavirus must very likely also come from nature and must share a recent common ancestor with RaTG13. \n",
    " \n",
    "But here is the problem: this RaTG13 virus isn’t real. The evidence of its existence, its sequence, was fabricated. \n",
    " \n",
    "Quite a claim, right? What is the claim based on? How can anyone fabricate a sequence? Who dares to carry out such a deceitful action and is not fearful of being caught? One is entitled to ask all of these questions. Now, let’s dig into each of them and see how the answers provided here may stand.\n",
    " \n",
    "Who dares to carry out such a deceitful action?\n",
    " \n",
    "The sequence of RaTG13 was reported by Zhengli Shi, a researcher from the Wuhan Institute of Virology and the biosafety level 4 (P4) lab for virology research. Dr. Shi is the top coronavirus expert in China. She has gained a nickname of “batwoman” because she and her team have a long history of capturing wild bats in caves all over for the purpose of detecting and sometimes isolating coronaviruses within them. As publicly stated, the goal of her research is to identify animal coronaviruses that have the potential of crossing-over to infect humans and thereby help the public avoid SARS-like disasters in the future. \n",
    " \n",
    "Ironically, contrary to this self-portrait, since the very beginning of the current pandemic, Zhengli Shi has been singled out as THE suspect, who may have created the Wuhan coronavirus and, in doing so, caused a world-wide disaster. Interestingly, on Jan 23rd, 2020, just before this “rumor” started to soar though the roof, Shi published a paper in Nature (1), where she compared the freshly obtained sequence of the Wuhan coronavirus with those of other coronaviruses and thus delineated an evolutionary path of this new virus. In this publication, all of a sudden and out of nowhere, Shi reported this bat coronavirus, RaTG13, which pampered the public and seemingly helped shape a consensus in the field that the Wuhan coronavirus is of a natural origin.\n",
    " \n",
    "As stated in the paper, RaTG13 was discovered from Yunnan province, China, in 2013. According to credible sources, Shi has admitted to several individuals in the field that she does not have a physical copy of this RaTG13 virus. Her lab allegedly collected some bat feces in 2013 and analyzed these samples for possible presence of coronaviruses based on genetic evidence. To put it into plainer words, she has no physical proof for the existence of this RaTG13 virus. She only has its sequence information, which is nothing but a string of letters alternating between A, T, G, and C. \n",
    " \n",
    "Can the sequence of such a virus be fabricated? It cannot be any easier. It takes a person less than a day to TYPE such a sequence (less than 30,000 letters) in a word file. And it would be a thousand times easier if you already have a template that is about 96% identical to the one you are trying to create. Once the typing is finished, one can upload the sequence onto the public database. Contrary to general conception, such database does not really have a way to validate the authenticity or correctness of the uploaded sequence. It relies completely upon the scientists themselves – upon their honesty and consciences. Once uploaded and released, such sequence data becomes public and can be used legitimately in scientific analysis and publications.\n",
    " \n",
    "Now, does this RaTG13 sequence qualify as credible evidence in judging the matter? Well, remember, a central part of the matter is whether or not this Wuhan coronavirus was engineered or created by ZHENGLI SHI. It is Shi, not anybody else, who is the biggest suspect of this possible crime that is grander than anything else in human history. Given the circumstances, wouldn’t she have a strong enough motive to be deceitful? If the evidence she raised to prove herself innocent was nothing but a bunch of letters recently typed in a word file, should anyone treat it as valid evidence?\n",
    " \n",
    "RaTG13, if truly exists, should never be neglected by Shi for a period of seven years\n",
    " \n",
    "Let’s now think about this from another direction. The sequence of RaTG13 is highly alarming – it clearly shows a potential of the virus to infect humans. \n",
    " \n",
    "Within the spike protein of a β coronavirus, there is a critical piece named receptor-binding domain (RBD), which dictates whether or not this virus can use the ACE2 receptor on the surface of our cells and thereby infect humans. As a routine, when Shi’s team finishes collecting samples and confirms the presence of a coronavirus, the first thing they would do is to look at the sequence of the virus’ RBD. If there is resemblance between this sequence and that of the SARS virus (rarely so), their blood would boil because they have found something that may jump over to humans. It also means that top-journal publications are coming their way.\n",
    " \n",
    "In 2013, Shi made her fame in the coronavirus field by publishing in Nature two bat coronaviruses (Rs3367 and SHC014), which share considerable sequence similarity with SARS in the RBD region (2). This work, for the first time, proved a bat origin of SARS. In the following years, her team continued to publish articles, featuring additional bat coronaviruses that share these important sequence motifs (3, 4).\n",
    " \n",
    "What does an RBD sequence look like? Figure 1 is the sequence comparison between SARS RBD and the RBDs of the bat coronaviruses that Zhengli Shi published in high-profile journals (2-4). Comparing to SARS (top), many bat coronaviruses (most of the ones in the bottom half) had substantial deletions in their RBDs and are thus likely defective in targeting humans. In contrast, some bat coronaviruses (upper half) not only resemble SARS in the completeness of the RBD sequences but also contain amino acids similar to their SARS counterparts at some of the five locations known to be critical for binding human ACE2 receptor. This group of viruses, with these dazzling features, were perceived by the field as breakthroughs.\n",
    "\n",
    "![image](https://user-images.githubusercontent.com/9312897/82109910-f76e7d00-9707-11ea-80ce-7ca4cd87d931.png)\n",
    "\n",
    ">Figure 1. Sequence alignment comparing the RBDs of SARS (top) and RaTG13 (red arrow) to RBDs of bat coronaviruses that Zhengli Shi published in high-profile journals from 2013-2017 (2-4). Amino acid residues highlighted by Shi as critical for binding human ACE2 receptor (2) are labeled in red text on top. Alignment was done using the MultAlin webserver (http://multalin.toulouse.inra.fr/multalin/).\n",
    "\n",
    "How does RaTG13, which was discovered in 2013, compare to these most cherished collections of Shi’s?\n",
    " \n",
    "By appearance, RaTG13 clearly belongs to the “good-looking” group. It rivals with the best ones in its completeness of the RBD sequence as well as in the conservation of critical amino acids. While a single amino acid insertion is observed, it occurs in a variable region and can be easily tolerated without affecting the protein function. Importantly, RaTG13 preserves the binding motifs as much as, if not better than, any other bat coronavirus in Shi’s list. At position 442, RaTG13 has a “L”, which beats most, if not all, bat viruses in resembling the “Y” in SARS RBD (“L” and “Y” both mediate hydrophobic interactions). At position 472, RaTG13 is the only bat coronavirus that has the residue “L”, which is identical to SARS. Although the amino acids at the other three positions are not identical to their counterparts in SARS, they are all conservative mutations, which may not negatively impact the protein’s function. (In fact, a very recent publication confirmed that the RBD from RaTG13, like SARS RBD, can indeed bind the human ACE2 receptor (5). Note: the RaTG13 RBD gene used in this work was synthesized).\n",
    " \n",
    "As an expert as Shi is, she only needed to take one peek at the sequence of RaTG13’s RBD and immediately realize: this virus closely resembles SARS in its RBD and has a clear potential of infecting humans. If Shi’s public statement is true and she indeed intends to discover bat coronaviruses with a potential to cross-over to humans, how could she possibly overlook this extremely interesting finding of RaTG13? If this RaTG13 was discovered SEVEN years ago in 2013, why did Shi not publish this astonishing finding earlier and yet let the “less-attractive” viruses take the stage? Why did she decide to publish such a sequence only when the current outbreak took place and people started questioning the origin of the Wuhan coronavirus? \n",
    " \n",
    "None of these makes sense. These facts only add to the suspicion – Zhengli Shi either was directly involved in the creation of this virus/bioweapon, or helped cover it up, or both. \n",
    " \n",
    "Of course, these facts also add to the claim that RaTG13 is a fake virus – it exists on Nature (the journal) but not in nature. \n",
    " \n",
    "A closer look at the gene sequence of RaTG13’s spike reveals clear evidence of human manipulation\n",
    " \n",
    "To assist our analysis here, we have to first understand one basic feature of natural evolution.\n",
    " \n",
    "When a gene (composed of nucleotides) is being translated into a protein (composed of amino acids), every three consecutive nucleotides constitute a codon and each codon encodes a particular amino acid (Figure 2). On the other hand, an amino acid typically corresponds to four codons, although some amino acids have one or two more and some one or two less (you can learn more about this here: https://passel2.unl.edu/view/lesson/3ccee8500ac8/6). What does it mean? It means that, when a nucleotide has changed (or in other words a single nucleotide substitution has occurred), the codon is certainly altered but the corresponding amino acid may or may not change. This is because the new codon may encode the same amino acid as the old codon does. A single nucleotide substitution that results in NO change of the amino acid is referred to as a synonymous mutation. A single nucleotide substitution that leads to a change in amino acid is called a non-synonymous mutation. When evolution takes place through random mutations, on average, every six nucleotide changes result in the change of one amino acid. In other words, on average and under normal conditions, the ratio between the number of synonymous mutations and that of non-synonymous mutations should be around 5:1.\n",
    "\n",
    "![image](https://user-images.githubusercontent.com/9312897/82109925-37cdfb00-9708-11ea-9be6-c6392750cd36.png)\n",
    "\n",
    ">Figure 2. Codon table. Picture taken from: https://passel2.unl.edu/view/lesson/3ccee8500ac8/6\n",
    "\n",
    "Now let’s further illustrate such a relationship using an example. In Figure 3A, synonymous and non-synonymous mutations are counted when the gene sequences of the spike proteins from two closely related bat coronaviruses, ZC45 and ZXC21 (6) are compared. The green curve depicts how the number of the synonymous mutation grows (Y axis) when the codons are analyzed sequentially (X axis). The red curve represents the trend of non-synonymous mutations. As expected, there are more synonymous mutations than non-synonymous mutations. Importantly, a correlation between the two curves is clearly present: they climb up and go through plateaus in a roughly synchronized manner. Throughout the whole length of the gene, at any point, the ratio between the accumulated synonymous and non-synonymous mutations is maintained at around 5:1. As we have described in the preceding paragraph, these features are consistent with what is the expected when two lineages closely relate to each other evolutionarily and the differences in their sequences are results of random mutations. \n",
    "\n",
    "![image](https://user-images.githubusercontent.com/9312897/82109951-8da2a300-9708-11ea-98d6-0331ba9301dc.png)\n",
    "\n",
    ">Figure 3. Comparing the nucleotide sequences of different spike proteins on the synonymous mutations (green curve) and non-synonymous mutations (red curve) reveals evidence of human manipulation. A. comparison between two related bat coronaviruses ZC45 (MG772933) and ZXC21 (MG772934), which are nature-borne. B. comparison between the Wuhan coronavirus (NC_045512) and RaTG13 (MN996532) shows a pattern inconsistent with natural evolution. Sequence alignment was done using EMBOSS Needle. Synonymous Non-synonymous Analysis was performed using SNAP at www.hiv.lanl.gov (7).\n",
    "\n",
    "Does this hold true for RaTG13 and the Wuhan coronavirus? Not really. \n",
    " \n",
    "Figure 3B is the same comparative analysis done between RaTG13 and the Wuhan coronavirus. One thing you can immediately appreciate is that, in the second half of the sequence, while the green curve continues to grow steadily, the red curve stays flat. For a region as wide as over 700 amino acids (corresponding to 2100 nucleotides), which is statistically substantial, the synchronization between the two curves is non-existent. Surprisingly, or maybe not so surprisingly, at the end, the final counts of synonymous and non-synonymous mutations yield a ratio of just over five, consistent with what’s expected out of natural evolution. \n",
    " \n",
    "Let’s bring out some numbers to help us better comprehend the difference here. Let’s focus on the S2 protein, the second half of the spike ranging from 684 to 1273 (numbering according to the Wuhan coronavirus). Detailed analysis of this region reveals that, between ZC45 and ZXC21, a total of 32 nucleotides have changed and 5 of them lead to amino acid mutations (27 synonymous mutations vs. 5 non-synonymous mutations). It is, again, consistent with the scenario of natural evolution: every six nucleotide changes result in the change of one amino acid; synonymous/non-synonymous ratio is about 5:1. In contrast, for the same S2 region, between the Wuhan coronavirus and RaTG13, there are a total of 90 nucleotide changes and only two amino acid mutations. Here, every 45 nucleotide changes correspond to one amino acid change. The synonymous/non-synonymous ratio is 44:1.\n",
    " \n",
    "It is noteworthy that ZC45 and ZXC21 share ~97% sequence identity, just like that between the Wuhan coronavirus and RaTG13. So, the above comparison is very proper and reliable.\n",
    " \n",
    "If a person is studying the sequence differences between the Wuhan coronavirus and RaTG13 and yet pays attention only to the overall synonymous/non-synonymous ratio for the spike sequence, nothing would look strange. However, if one digs out as much details as shown in Figure 3, any person with a reasonable mind would say that something is clearly wrong.\n",
    " \n",
    "What is the best way to interpret this? A safe conclusion is that, between the Wuhan coronavirus and RaTG13, at least one is non-natural. If one is natural, then the other one must be not. Of course, the other possibility also exists – neither of them came from nature.\n",
    " \n",
    "If the Wuhan coronavirus is non-natural, then we have reached the end of our investigation.\n",
    " \n",
    "In fact, the Wuhan coronavirus may “look” natural even if it is a bioweapon because it is most likely made by using a natural coronavirus as a template. This would lead to a conclusion that the RaTG13 is non-natural, which is consistent with the facts we have brought up earlier: no physical copies of the virus exist and the sequence is highly likely fabricated.\n",
    " \n",
    "How could Zhengli Shi fail so badly in fabricating the RaTG13 sequence? While, when I said it was easy to type out a fake sequence that is 96% identical to a template, I did not say that it is easy to maintain a reasonable synonymous/non-synonymous ratio throughout the whole genome. Unfortunately for Shi, when she had to come up a good sequence for S1 and the RBD within it (she knows that this part will be scrutinized the most), she had somehow exhausted the number of non-synonymous mutations she could use here. To maintain a reasonable synonymous/non-synonymous ratio for the whole Spike-encoding gene (we can actually give her some credit here as she did remember to get it close to 5:1), she had to strictly limit the number of non-synonymous mutations in the S2 half of spike, which ended up flattening the red curve. It is hard to be a cheater after all. \n",
    " \n",
    "A deeper reason that Shi and the CCP needs the cover of RaTG13\n",
    " \n",
    "Hopefully you are now as convinced as I am in that the RaTG13 sequence is indeed a fabrication. The first thing we should do then is to discredit any scientific publication, which based its analysis on the RaTG13 sequence and subsequently arrived at the conclusion that the Wuhan coronavirus is of natural origin. When you do a clean-up like that, you will see that there is practically nothing left. \n",
    " \n",
    "Next, we can look back to see what other coronaviruses are close to the Wuhan coronavirus in terms of sequence similarity. It turns out the two bat viruses featured in Figure 3A, ZC45 and ZXC21, are the next hits, each sharing 95% amino acid sequence identity (~89% nucleotide identity) with the Wuhan coronavirus. What is striking is the manner that the Wuhan coronavirus resembles these two bat coronaviruses – while every other protein remains highly identical, the S1 part of Spike, which dictates host selection, is only 69% identical. I have posted an article earlier, where I thoroughly analyzed this pattern and discussed how it is interlocked with the Wuhan coronavirus being a bioweapon made with ZC45 or ZXC21 as a template (www.nerdhaspower.weebly.com).  \n",
    " \n",
    "One thing we haven’t mentioned so far is that ZC45 and ZXC21 are bat coronaviruses discovered, collected, and published by a military research lab of the Chinese Communist Party (CCP) (6). They are owned only by the CCP. Now you may be able to appreciate the full benefits that the CCP creates by reporting a fake RaTG13 virus with a fabricated sequence – it would just be too obvious otherwise.\n",
    " \n",
    "Finally, I would like to add an additional piece of evidence, which was brought up in a comment of my earlier article by someone who is clearly an expert. It, in my opinion, hugely strengthens the claim that the Wuhan coronavirus is of non-natural origin.\n",
    " \n",
    "The E protein of β coronaviruses is a structural protein that is tolerant of mutations as evidenced both in SARS and in bat coronaviruses. However, on the amino acid level, E protein of the Wuhan coronavirus identified at the beginning of the outbreak is 100% identical to those of the suspected templates, ZC45 and ZXC21 (Figure 4). What is striking is that, after a short two-months spread of the virus in humans, the E protein is already mutating. Sequence data obtained within the month of April indicate that mutations have occurred to four different locations (Figure 4). Note that the E protein makes very limited interactions with host proteins and thus is not under evolutionary pressure to adapt to a new host. Not only the E protein can tolerate mutations but also its mutational rate is held constant across different coronavirus species. The fact that the E protein of the Wuhan coronaviruses is already mutating in the short period of human-to-human transmission is consistent with its evolutionary feature. In stark contrast, while ZC45/ZXC21 and the Wuhan coronavirus are more distant evolutionarily, the E proteins within them are 100% identical. In no way this could be a result of natural evolution. \n",
    " \n",
    "The most plausible explanation: the Wuhan coronavirus is a bioweapon made using ZC45/ZXC21 as a template.\n",
    "\n",
    "![image](https://user-images.githubusercontent.com/9312897/82109994-f558ee00-9708-11ea-89a4-01a1f86b142e.png)\n",
    "\n",
    ">Figure 4. Alignment of E proteins of bat and human coronaviruses shatters the notion that the Wuhan coronavirus came from nature. While the early copies of Wuhan coronavirus share 100% identity of the E protein with ZC45, ZXC21, and RaTG13, sequence data of most recent Wuhan coronaviruses indicates that mutation has been observed in four different locations. Accession numbers of viruses (not including the ones listed in Figure 3): Feb_11: MN997409, April_9: MT300186, Apr_13: MT326139, Apr_15_A: MT263389, Apr_15_B: MT293206, Apr_17: MT350246.\n",
    "\n",
    "Added on May 10th, 2020:\n",
    "Following the suggestion given by Viennah K. Erchus, additional information is added here to illustrate how E proteins are tolerant of mutations. As shown in Figure 5, mutations and insertion/deletions in E proteins have been observed at multiple locations both in SARS coronaviruses and in bat coronaviruses. This clearly indicates E protein’s tendency and permissiveness toward mutations across β coronavirus species. What is inconsistent with this trait is the fact that ZC45/ZXC21 and the Wuhan coronavirus, while significantly distant from each other in evolution, share 100% identity in E proteins. Again, in no way this could be a result of natural evolution. This further supports the claim that the Wuhan coronavirus is made in a lab by following ZC45/ZXC21 as a template.\n",
    "\n",
    "![image](https://user-images.githubusercontent.com/9312897/82110040-3bae4d00-9709-11ea-80fb-9d89e7546e07.png)\n",
    "\n",
    ">Figure 5. Sequence alignment of E proteins from Wuhan coronavirus (Wuhan-Hu-1), SARS coronaviruses (SARS_GD01, SARS_ExoN1, SARS_TW_GD1, SARS_Sino1_11), and bat coronaviruses (Bat_AP040581.1, RsSHC014, SC2018, Bat_NP_828854.1, BtRs-BetaCoV/HuB2013, BM48-31/BGR/2008). The ready-for-analysis sequences were kindly prepared by Viennah K. Erchus.\n",
    "\n",
    "Author’s note and acknowledgement:\n",
    "The current writing is a reproduction of part of my earlier article (www.nerdhaspower.weebly.com), with two significant additions. The first addition is the analysis of synonymous/non-synonymous mutations of Spike-encoding gene of RaTG13. This was first identified and analyzed by Elannor D. Allens, who described this finding in a comment under my earlier article. Using the synonymous/nonsynonymous ratio between ZC45 and ZXC21 as an example of natural evolution was suggested by 冠军的亲爹. The second addition is the analysis of recently observed mutations in the viral E proteins. This was first observed and analyzed by John F. Signus, who also posted his findings in a series of comments. The writing here owes greatly to their brilliance and insights. 冠军的亲爹 particularly encouraged me in pursuing this writing. Although these names may only be their identities online, I nonetheless feel that it is appropriate to give the credits using these names. I believe dearly that the persons behind these names are the most decent and brilliant kind. \n",
    " \n",
    "* Just realized that I used the wrong format for this page. If you want to leave a comment, please go to the main page \"BLOG\". Sorry for the inconvenience. \n",
    " \n",
    "References:\n",
    "1.         Zhou P, Yang XL, Wang XG, Hu B, Zhang L, Zhang W, et al. A pneumonia outbreak associated with a new coronavirus of probable bat origin. Nature. 2020.\n",
    "2.         Ge XY, Li JL, Yang XL, Chmura AA, Zhu G, Epstein JH, et al. Isolation and characterization of a bat SARS-like coronavirus that uses the ACE2 receptor. Nature. 2013;503(7477):535-8.\n",
    "3.         Zeng LP, Gao YT, Ge XY, Zhang Q, Peng C, Yang XL, et al. Bat Severe Acute Respiratory Syndrome-Like Coronavirus WIV1 Encodes an Extra Accessory Protein, ORFX, Involved in Modulation of the Host Immune Response. J Virol. 2016;90(14):6573-82.\n",
    "4.         Hu B, Zeng LP, Yang XL, Ge XY, Zhang W, Li B, et al. Discovery of a rich gene pool of bat SARS-related coronaviruses provides new insights into the origin of SARS coronavirus. PLoS Pathog. 2017;13(11):e1006698.\n",
    "5.         Shang J, Ye G, Shi K, Wan Y, Luo C, Aihara H, et al. Structural basis of receptor recognition by SARS-CoV-2. Nature. 2020.\n",
    "6.         Hu D, Zhu C, Ai L, He T, Wang Y, Ye F, et al. Genomic characterization and infectivity of a novel SARS-like coronavirus in Chinese bats. Emerg Microbes Infect. 2018;7(1):154.\n",
    "7.         Korber B. HIV Signature and Sequence Variation Analysis. Computational Analysis of HIV Molecular Sequences. 2000;Chapter 4:55-72."
   ]
  },
  {
   "cell_type": "markdown",
   "metadata": {},
   "source": [
    "I also have found enlightening and offering a different point of view the opinion expressed [here](http://virological.org/t/tackling-rumors-of-a-suspicious-origin-of-ncov2019/384/15):\n",
    "\n",
    "I have been privately dealing with rumors and inquiries, focused on the RRAR potential furin cleavage site, that nCoV2019 may have a suspicious origin as an engineered, laboratory-generated virus either accidentally or deliberately released in the area of the Wuhan seafood and animal market. The publication of the highly similar RaTG13 sequence about a week ago has fueled this type of speculation.\n",
    "\n",
    "As I have told people privately, I see no evidence at all to support such a claim. In sharp contrast, I have studied the question in detail, using RaTG13 and Wuhan sequence at the S1/S2 boundary, and find convincing proof of exactly opposite conclusion – that RaTG13 could NOT be a proximal source of the Wuhan virus.\n",
    "\n",
    "At first glance of an alignment of the S protein sequence of both, it is natural that the issue of an engineered insertion should be considered. On either side of the new furin site, the amino acid sequence is identical in both from aa614 to aa1133 – an apparent insert of PRRA is the only difference in an otherwise 100% conserved 519 amino acid region.\n",
    "\n",
    "![image](http://virological.org/uploads/default/optimized/1X/190b6fa5a0cfb3f6c984415a24c26cac3791a4f3_2_690x46.jpeg)\n",
    "\n",
    "But that is at first glance.\n",
    "\n",
    "One has to consider that the PRRA is an unusual sequence to introduce to generate a furin site – others even among coronaviruses like MHV A59 are so much better. Also that the underlying code CCTCGGCGGGCA introduces an unnecessarily G and C rich region where none otherwise exists. Not likely scenarios for something a gene jockey would do.\n",
    "\n",
    "Then one looks at the actual RNA alignment. The “insert” is actually not in frame, but CTCCTCGGCGGG, or -2 out of frame. Again, who does that?\n",
    "\n",
    "But the PROOF lies in looking at the 288 alignable nucleotides on either side of the “insert”. While they cover identical protein sequence, the RNA is not at all identical, but 6.6% different – 19 mutations out of 288. All 19 are mutations in the wobble base of their respective codons. There are so many that the frame can be inferred from the 2/1 pattern even without knowing the beginning or the end, or indeed that the encoded protein sequence is identical – those are self-evident by looking at the RNA itself.\n",
    "\n",
    "![image](http://virological.org/uploads/default/original/1X/022035f70c8bebf532ee7aaa5a307936817a5342.jpeg)\n",
    "\n",
    "We know from influenza H1N1, for which we have serial isolates from 1918 to the present, that wobble base mutagenesis occurs at a rate of 0.95% per decade. This permits an estimation of the TMRCA of the two sequences nCoV2019 and RaTG13 of 69.5 years ago – roughly 1950 +/- 10 years or so.\n",
    "\n",
    "RaTG13, or anything nearly identical to it at the RNA level, simply could not be a proximal source of nCoV2019. It just LOOKS like it might be…at first glance.\n",
    "\n",
    "Given that furin cleavage signals are present in other coronaviruses at exactly that point in the S1/S2 boundary region, it only LOOKS unusual, especially against the backdrop of SARS. The preponderance of evidence, coupled with Ockham’s razor (that the simplest explanation is preferred) dictates that the PRRA sequence has been conserved in nCoV2019 from a long ago ancestor virus. It is not of suspicious origin. The closest bat virus sequence is really not close at all.\n",
    "\n",
    "RNA don’t lie.\n",
    "\n",
    "---\n",
    "\n",
    "A COMMON PALINDROMIC RNA SEQUENCE AS UNITARY CONTRIBUTOR TO COPY-CHOICE RECOMBINATION IN SARS-COV-2\n",
    "\n",
    "This is intended to be in the same vein as my original post in this thread, just before midnight of Feb 6, evaluating similarities in Coronavirus sequences at the level of viral RNA. In this case, the subject is the observation that the receptor-binding domain of SARS-CoV-2 bears significantly high similarity to that of a Coronavirus recently obtained from a pangolin, namely Pan_SL-CoV_GD/P1L.\n",
    "\n",
    "I have hesitated to comment, because an extensive analysis of this issue has been posted as a pre-review manuscript on the preprint website bioRxiv since March 24, and my preference would have been to wait for its publication, along with the posting of the Pan_SL-CoV_GD/P1La sequence on Genbank. It is now 7 weeks later, and neither the paper nor sequence have been posted on PubMed or Genbank. In this era of rapid publication, especially for COVID-related work, this is highly unusual.\n",
    "\n",
    "The current citation is:\n",
    "Emergence of SARS-CoV-2 through Recombination and Strong Purifying Selection\n",
    "Xiaojun Li, Elena E. Giorgi, Manukumar Honnayakanahalli Marichann, Brian Foley, Chuan Xiao, Xiang-Peng Kong, Yue Chen, Bette Korber, Feng Gao\n",
    "bioRxiv 2020.03.20.000885; doi: https://doi.org/10.1101/2020.03.20.000885 20\n",
    "\n",
    "I will begin by saying I concur completely with this paper, by a team of authors I hold in high regard. I have also communicated directly with Brian Foley of the team several days ago. I wish only to add additional information consistent with my previous posts on this thread, and not “republish” their work in any way.\n",
    "\n",
    "Likewise, colleagues of mine in a global collaboration posted here that SARS-CoV-2 was not derived from any pangolin sequence.\n",
    "\n",
    "I noticed in the published version on Nature Med it has an extended discussion on the “glycan shield”. The analysis done in this correspondence only refers to one O-linked glycan motif. The “glycan shield” mostly refers to N-linked glycans, which are quite abundant in beta coronavirus and are the major constituents of the “glycan shield”. So there is a big jump in the discussion which may lead to confusion. I just post an initial analysis here in collaboration with David Robertson.\n",
    "\n",
    "I concur completely with their analysis, subsequently published in Nature Medicine, done largely at the amino acid level.\n",
    "\n",
    "I wish here to compare Bat RaTG13 and Pan_SL-CoV_GD/P1L with SARS-CoV-2 principally at the level of viral RNA sequence, to show how a common palindromic RNA sequence may be the unitary contributor to several events of copy-choice recombination that gave rise to these viral sequences.\n",
    "\n",
    "The Pan_SL-CoV_GD/P1L sequence I used is the original incomplete RNA sequence, first described in:\n",
    "Lam, T.T., Shum, M.H., Zhu, H. et al. Identifying SARS-CoV-2 related coronaviruses in Malayan pangolins. Nature (2020). https://doi.org/10.1038/s41586-020-2169-0 4\n",
    "While incomplete, the gaps do not affect the areas of sequence to be discussed here. I will use the DNA equivalent, derived by reverse transcription, as is common practice.\n",
    "\n",
    "The central point of the relationship between the receptor-binding domain (RBD) among the three viral sequences can be seen in this amino acid alignment, derived from the much more complex Figure 2A of the Li et al. 2020 paper, to wit:\n",
    "\n",
    "![image](http://virological.org/uploads/default/original/1X/d3d6fa87201232e28451efba6b1711064b3bfc2b.jpeg)\n",
    "\n",
    "Amino acid changes are highlighted in blue This makes their point that the RBD of SARS-CoV-2 is not derived from a virus similar to Bat RaTG13, but rather from one similar to a virus derived from pangolin.\n",
    "\n",
    "The authors do briefly allude to a much greater difference in RNA sequence between SARS-CoV-2 and the pangolin virus, but I would submit that a closer look at the nature of that difference should be made more clearly. What follows is an annotated alignment of the RNA sequences in this region, from each of the three viruses.\n",
    "\n",
    "![image](http://virological.org/uploads/default/optimized/1X/b9272d088096b1d37f4708ac1e4b2df7472fb6ee_2_690x388.jpeg)\n",
    "\n",
    "As I first posted concerning the relatedness at the RNA level between Bat RaTG13 and SARS-CoV-2, this alignment is replete with wobble base mutations (blue arrows), between SARS-CoV-2 and Pan_SL-CoV_GD/P1L. There are 28 in all over a span of 268 nt between apparent changes of track from RaTG13-like to Pan_SL-CoV_GD/P1L-like and back to RaTG13-like sequence.\n",
    "\n",
    "We know from many other virological examples that it takes several decades to accumulate this level of wobble-base mutagenesis, as I described Feb 6 in my first post to this thread. In this case, my estimate would be divergence over a span of 40 years.\n",
    "\n",
    "So the recombination event resulting in this RBD sequence being in SARS-CoV-2 occurred in a decade around 1980. Not only could this not have occurred in a lab, but it is also unlikely to have occurred in a pangolin.\n",
    "\n",
    "Pangolins are solitary animals, meeting only to mate. They are very unlikely to be capable of horizontal transmission of a virus, about as unlikely as hermits living in the wilderness. Rather, they reflect transmission from bats within their range of habitation. So the copy-choice recombination event that led to SARS-CoV-2 having an RBD sequence capable to binding to the ACE-2 receptor occurred in a bat cave four decades ago.\n",
    "\n",
    "It is also worthy of note that the RNA pentanucleotide CAGAT, a variant of CAGAC that I highlighted in a recent post, lies directly before the likely area of crossover in the recombinant.\n",
    "\n",
    "So, the two most unique peptide sequences of SARS-CoV-2 related to its ability to infect human beings and spread rapaciously, the RBD and furin cleavage site, are unified by being preceded by the CAGAC/CAGAT motif.\n",
    "\n",
    "There are other nearly identical sequences, exceeding 99% at the RNA level, noted by the Li et al and Lam et al papers: the coding sequence for Membrane Protein E and for the 3’OH terminus downstream of the nucleocapsid (N) gene. In all three viral sequences for Membrane Protein E, as well as SARS of 2003 (that is identical in the first 50 amino acids with these other three), the palindrome TGAGT is found, which is the complement to CAGAC,just prior to the E gene. Finally, as shown below, the beginning of the 3’OH RNA sequence, identical in all three viruses, is replete with five nucleotide palindromes, including CAGAC and its variant CAGAT.\n",
    "\n",
    "![image](http://virological.org/uploads/default/original/1X/ff9f42dbdad5dc6e65c4e4f0aa3fee1c1594b5f2.jpeg)\n",
    "\n",
    "Even in SARS of 2003, the sequence identity in the 3’OH region is 3%, far lower than the overall 20% disparity between SARS and SARS-CoV-2.\n",
    "\n",
    "Therefore, as shown below, much of the critical evolutionary history of both SARS and SARS-CoV-2 can be associated with the proximity of copy-choice recombination sites to CAGAC, its complement, or a similar pentanucleotide.\n",
    "\n",
    "![image](http://virological.org/uploads/default/optimized/1X/cc721dc79fd0c5523773ba3abb985e366d0a28ba_2_690x388.jpeg)\n",
    "\n",
    "Others have noted the profligacy of recombination sites within the coronavirus genome that have accumulated over their very long evolutionary history in bats. So there may well be other RNA sequence motifs that tend to facilitate copy-choice errors.\n",
    "\n",
    "With respect to SARS-CoV-2 and the ancestral viruses that contributed critical regions to its RNA sequence for human pandemic potential, this was clearly a natural process. This reflects an evolution over decades, in bat caves long ago, facilitated by some mechanism, as shown above, whereby CAGAC disrupts the processivity of the viral RNA polymerase complex down its template, and facilitates, albeit rarely, copy-choice errors capable of creating potentially dangerous recombinants to humankind.\n",
    "\n",
    "To date, no source of SARS-CoV-2 has been determined, and neither bat, nor other mammal, has been found to harbor it except human beings in the pandemic.\n",
    "\n",
    "All around the globe, those of us who have studied emerging viral pathogens at the molecular level for decades are united in our judgment, based on protein and RNA sequence analysis, that SARS-CoV-2 evolved by a series of recombination events in the wild. Sequence divergence shows that these events occurred through many decades of recombination among both similar and distantly-related bat Coronaviruses, potentially in multiple bat species co-habiting in the same limestone bat caves across a wide swath of southern China.\n",
    "\n",
    "The reader will note that the sequences are labeled “pangolin”, in parentheses, Pre-SARS, Pre-SARS-CoV-2, Pre-Bat RATG13, Pre- Pan_SL-CoV_GD/P1L, and Pre-HKU9. This is because the source viruses come from the past, and not the present. From past locations, and not the location or host species from which they happened to be much more recently isolated.\n",
    "\n",
    "This judgment is based on facts and molecular evidence, independently judged by different analyses in the hands of eminently qualified scientists. A number of us have never worked together over long careers. Some of us do not even know of each other by reputation. Yet we have all come to the same conclusion, in China, in Scotland, in North Carolina, in Louisiana, in Texas, in New Mexico, in California and in Australia. The backbone of the virus sequence was derived from a common ancestor of Bat RaTG13 and SARS-CoV-2, most likely in Yunnan province from which Bat RaTG13 was isolated. Small segments of sequence, hundreds of nucleotides long in a genome of 30,000 nt, were derived from viruses ancestral to other viruses only recently isolated in Guangdong province.\n",
    "\n",
    "The only laboratory in which SARS-CoV-2 was concocted was a natural one in a bat cave, in a process that took decades, an accident of nature waiting for human contact.\n",
    "\n",
    "William R. Gallaher, Ph.D. (Harvard ’72)\n",
    "Professor of Microbiology, Immunology and Parasitology, Emeritus\n",
    "Louisiana State University School of Medicine, New Orleans"
   ]
  },
  {
   "cell_type": "markdown",
   "metadata": {},
   "source": [
    "A great layman's report of the critical [furin cleavage sequence was featured in El Pais](https://elpais.com/elpais/2020/05/09/ciencia/1589059080_203445.html). The sequence ccu cgg cgg gca corresponds to proline (ccu), arginine (cgg) and alanine (gca). \n",
    "\n",
    "The correspondence from AA to nucleotid can be found [here](https://www.genome.jp/kegg/catalog/codes1.html). Using the [DNA codon table](https://en.wikipedia.org/wiki/DNA_codon_table), the cct in front of cgg cgg gca, in position 23587, is actually proline. So problem solved ccu = cct!\n",
    "\n",
    "[This Nature paper](https://www.nature.com/articles/s41591-020-0820-9/figures/1) does include proline as a leading AA in the El Pais sequence in position 681."
   ]
  },
  {
   "cell_type": "markdown",
   "metadata": {},
   "source": [
    "This is the topological set up of the receptor binding domain (RBD), the glycoprotein (spike protein) and the furin cleavage site:\n",
    "\n",
    "![image](https://user-images.githubusercontent.com/9312897/81754779-009be780-9485-11ea-9672-7ba1876e0c6e.png)"
   ]
  },
  {
   "cell_type": "code",
   "execution_count": 751,
   "metadata": {},
   "outputs": [
    {
     "name": "stdout",
     "output_type": "stream",
     "text": [
      "[1] \"There is a non-sensical string of n's. The location of the string of nnnnnnnn's is:\"\n"
     ]
    },
    {
     "data": {
      "text/html": [
       "<table>\n",
       "<caption>A matrix: 1 × 2 of type int</caption>\n",
       "<thead>\n",
       "\t<tr><th scope=col>start</th><th scope=col>end</th></tr>\n",
       "</thead>\n",
       "<tbody>\n",
       "\t<tr><td>6329</td><td>6371</td></tr>\n",
       "</tbody>\n",
       "</table>\n"
      ],
      "text/latex": [
       "A matrix: 1 × 2 of type int\n",
       "\\begin{tabular}{ll}\n",
       " start & end\\\\\n",
       "\\hline\n",
       "\t 6329 & 6371\\\\\n",
       "\\end{tabular}\n"
      ],
      "text/markdown": [
       "\n",
       "A matrix: 1 × 2 of type int\n",
       "\n",
       "| start | end |\n",
       "|---|---|\n",
       "| 6329 | 6371 |\n",
       "\n"
      ],
      "text/plain": [
       "     start end \n",
       "[1,] 6329  6371"
      ]
     },
     "metadata": {},
     "output_type": "display_data"
    },
    {
     "name": "stdout",
     "output_type": "stream",
     "text": [
      "[1] \"Is the string before the n's a multiple of 3?\"\n"
     ]
    },
    {
     "data": {
      "text/html": [
       "2109.33333333333"
      ],
      "text/latex": [
       "2109.33333333333"
      ],
      "text/markdown": [
       "2109.33333333333"
      ],
      "text/plain": [
       "[1] 2109.333"
      ]
     },
     "metadata": {},
     "output_type": "display_data"
    },
    {
     "data": {
      "text/html": [
       "FALSE"
      ],
      "text/latex": [
       "FALSE"
      ],
      "text/markdown": [
       "FALSE"
      ],
      "text/plain": [
       "[1] FALSE"
      ]
     },
     "metadata": {},
     "output_type": "display_data"
    },
    {
     "name": "stdout",
     "output_type": "stream",
     "text": [
      "[1] \"Getting rid of the extra letter...\"\n",
      "[1] \"Is it now divisible by 3?\"\n"
     ]
    },
    {
     "data": {
      "text/html": [
       "2109"
      ],
      "text/latex": [
       "2109"
      ],
      "text/markdown": [
       "2109"
      ],
      "text/plain": [
       "[1] 2109"
      ]
     },
     "metadata": {},
     "output_type": "display_data"
    },
    {
     "data": {
      "text/html": [
       "TRUE"
      ],
      "text/latex": [
       "TRUE"
      ],
      "text/markdown": [
       "TRUE"
      ],
      "text/plain": [
       "[1] TRUE"
      ]
     },
     "metadata": {},
     "output_type": "display_data"
    },
    {
     "name": "stdout",
     "output_type": "stream",
     "text": [
      "[1] \"At what point does the string of n's end?\"\n"
     ]
    },
    {
     "data": {
      "text/html": [
       "6371"
      ],
      "text/latex": [
       "6371"
      ],
      "text/markdown": [
       "6371"
      ],
      "text/plain": [
       "[1] 6371"
      ]
     },
     "metadata": {},
     "output_type": "display_data"
    },
    {
     "name": "stdout",
     "output_type": "stream",
     "text": [
      "[1] \"Probably two amino acids flank the nonsensical sequence of n's. If we tag on 2 aa to the n's we get a x of 3:\"\n"
     ]
    },
    {
     "data": {
      "text/html": [
       "15"
      ],
      "text/latex": [
       "15"
      ],
      "text/markdown": [
       "15"
      ],
      "text/plain": [
       "[1] 15"
      ]
     },
     "metadata": {},
     "output_type": "display_data"
    },
    {
     "name": "stdout",
     "output_type": "stream",
     "text": [
      "[1] \"Is the string from the position after the last n to the end divisible by 3?\"\n"
     ]
    },
    {
     "data": {
      "text/html": [
       "7829"
      ],
      "text/latex": [
       "7829"
      ],
      "text/markdown": [
       "7829"
      ],
      "text/plain": [
       "[1] 7829"
      ]
     },
     "metadata": {},
     "output_type": "display_data"
    },
    {
     "data": {
      "text/html": [
       "TRUE"
      ],
      "text/latex": [
       "TRUE"
      ],
      "text/markdown": [
       "TRUE"
      ],
      "text/plain": [
       "[1] TRUE"
      ]
     },
     "metadata": {},
     "output_type": "display_data"
    },
    {
     "name": "stdout",
     "output_type": "stream",
     "text": [
      "[1] \"Since we know that in that position a sensical cct is starting we count backwards in triples to the end of n's\"\n"
     ]
    },
    {
     "data": {
      "text/html": [
       "5738.33333333333"
      ],
      "text/latex": [
       "5738.33333333333"
      ],
      "text/markdown": [
       "5738.33333333333"
      ],
      "text/plain": [
       "[1] 5738.333"
      ]
     },
     "metadata": {},
     "output_type": "display_data"
    },
    {
     "name": "stdout",
     "output_type": "stream",
     "text": [
      "[1] \"... but this is not divisible by 3!\"\n",
      "[1] \"We eliminate 1 basis right after the nnnn sequence...\"\n",
      "[1] \"... but now the whole string left after the nonsensical n's is not divisible by 3:\"\n"
     ]
    },
    {
     "data": {
      "text/html": [
       "7828.66666666667"
      ],
      "text/latex": [
       "7828.66666666667"
      ],
      "text/markdown": [
       "7828.66666666667"
      ],
      "text/plain": [
       "[1] 7828.667"
      ]
     },
     "metadata": {},
     "output_type": "display_data"
    },
    {
     "name": "stdout",
     "output_type": "stream",
     "text": [
      "[1] \"So we need to compensate by taking 2 bases from the end...\"\n",
      "[1] \"Is it now divisible by 3?\"\n"
     ]
    },
    {
     "data": {
      "text/html": [
       "7828"
      ],
      "text/latex": [
       "7828"
      ],
      "text/markdown": [
       "7828"
      ],
      "text/plain": [
       "[1] 7828"
      ]
     },
     "metadata": {},
     "output_type": "display_data"
    },
    {
     "data": {
      "text/html": [
       "TRUE"
      ],
      "text/latex": [
       "TRUE"
      ],
      "text/markdown": [
       "TRUE"
      ],
      "text/plain": [
       "[1] TRUE"
      ]
     },
     "metadata": {},
     "output_type": "display_data"
    },
    {
     "name": "stdout",
     "output_type": "stream",
     "text": [
      "[1] \"Are there any strange characters besides bases?\"\n"
     ]
    },
    {
     "data": {
      "text/html": [
       "FALSE"
      ],
      "text/latex": [
       "FALSE"
      ],
      "text/markdown": [
       "FALSE"
      ],
      "text/plain": [
       "[1] FALSE"
      ]
     },
     "metadata": {},
     "output_type": "display_data"
    },
    {
     "name": "stdout",
     "output_type": "stream",
     "text": [
      "[1] \"Is the whole rearranged virus divisible by 3?\"\n"
     ]
    },
    {
     "data": {
      "text/html": [
       "TRUE"
      ],
      "text/latex": [
       "TRUE"
      ],
      "text/markdown": [
       "TRUE"
      ],
      "text/plain": [
       "[1] TRUE"
      ]
     },
     "metadata": {},
     "output_type": "display_data"
    },
    {
     "name": "stdout",
     "output_type": "stream",
     "text": [
      "[1] \"What is the number of characters?\"\n"
     ]
    },
    {
     "data": {
      "text/html": [
       "29811"
      ],
      "text/latex": [
       "29811"
      ],
      "text/markdown": [
       "29811"
      ],
      "text/plain": [
       "[1] 29811"
      ]
     },
     "metadata": {},
     "output_type": "display_data"
    }
   ],
   "source": [
    "genome <- c(\" 1 ttcccaggta acaaaccaac caactttcga tctcttgtag atctgttctc taaacgaact\n",
    "             61 ttaaaatctg tgtggctgtc actcggctgc atgcttagtg cactcacgca gtataattaa\n",
    "            121 taactaatta ctgtcgttga caggacacga gtaactcgtc tatcttctgc aggctgctta\n",
    "            181 cggtttcgtc cgtgttgcag ccgatcatca gcacatctag gtttcgtccg ggtgtgaccg\n",
    "            241 aaaggtaaga tggagagcct tgtccctggt ttcaacgaga aaacacacgt ccaactcagt\n",
    "            301 ttgcctgttt tacaggttcg cgacgtgctc gtacgtggct ttggagactc cgtggaggag\n",
    "            361 gtcttatcag aggcacgtca acatcttaaa gatggcactt gtggcttagt agaagttgaa\n",
    "            421 aaaggcgttt tgcctcaact tgaacagccc tatgtgttca tcaaacgttc ggatgctcga\n",
    "            481 actgcacctc atggtcatgt tatggttgag ctggtagcag aactcgaagg cattcagtac\n",
    "            541 ggtcgtagtg gtgagacact tggtgtcctt gtccctcatg tgggcgaaat accagtggct\n",
    "            601 taccgcaagg ttcttcttcg taagaacggt aataaaggag ctggtggcca tagttacggc\n",
    "            661 gccgatctaa agtcatttga cttaggcgac gagcttggca ctgatcctta tgaagatttt\n",
    "            721 caagaaaact ggaacactaa acatagcagt ggtgttaccc gtgaactcat gcgtgagctt\n",
    "            781 aacggagggg catacactcg ctatgtcgat aacaacttct gtggccctga tggctaccct\n",
    "            841 cttgagtgca ttaaagacct tctagcacgt gctggtaaag cttcatgcac tttgtccgaa\n",
    "            901 caactggact ttattgacac taagaggggt gtatactgct gccgtgaaca tgagcatgaa\n",
    "            961 attgcttggt acacggaacg ttctgaaaag agctatgaat tgcagacacc ttttgaaatt\n",
    "            1021 aaattggcaa agaaatttga caccttcaat ggggaatgtc caaattttgt atttccctta\n",
    "            1081 aattccataa tcaagactat tcaaccaagg gttgaaaaga aaaagcttga tggctttatg\n",
    "            1141 ggtagaattc gatctgtcta tccagttgcg tcaccaaatg aatgcaacca aatgtgcctt\n",
    "            1201 tcaactctca tgaagtgtga tcattgtggt gaaacttcat ggcagacggg cgattttgtt\n",
    "            1261 aaagccactt gcgaattttg tggcactgag aatttgacta aagaaggtgc cactacttgt\n",
    "            1321 ggttacttac cccaaaatgc tgttgttaaa atttattgtc cagcatgtca caattcagaa\n",
    "            1381 gtaggacctg agcatagtct tgccgaatac cataatgaat ctggcttgaa aaccattctt\n",
    "            1441 cgtaagggtg gtcgcactat tgcctttgga ggctgtgtgt tctcttatgt tggttgccat\n",
    "            1501 aacaagtgtg cctattgggt tccacgtgct agcgctaaca taggttgtaa ccatacaggt\n",
    "            1561 gttgttggag aaggttccga aggtcttaat gacaaccttc ttgaaatact ccaaaaagag\n",
    "            1621 aaagtcaaca tcaatattgt tggtgacttt aaacttaatg aagagatcgc cattattttg\n",
    "            1681 gcatcttttt ctgcttccac aagtgctttt gtggaaactg tgaaaggttt ggattataaa\n",
    "            1741 gcattcaaac aaattgttga atcctgtggt aattttaaag ttacaaaagg aaaagctaaa\n",
    "            1801 aaaggtgcct ggaatattgg tgaacagaaa tcaatactga gtcctcttta tgcatttgca\n",
    "            1861 tcagaggctg ctcgtgttgt acgatcaatt ttctcccgca ctcttgaaac tgctcaaaat\n",
    "            1921 tctgtgcgtg ttttacagaa ggccgctata acaatactag atggaatttc acagtattca\n",
    "            1981 ctgagactca ttgatgctat gatgttcaca tctgatttgg ctactaacaa tctagttgta\n",
    "            2041 atggcctaca ttacaggtgg tgttgttcag ttgacttcgc agtggctaac taacatcttt\n",
    "            2101 ggcactgttt atgaaaaact caaacccgtc cttgattggc ttgaagagaa gtttaaggaa\n",
    "            2161 ggtgtagagt ttcttagaga cggttgggaa attgttaaat ttatctcaac ctgtgcttgt\n",
    "            2221 gaaattgtcg gtggacaaat tgtcacctgt gcaaaggaaa ttaaggagag tgttcagaca\n",
    "            2281 ttctttaagc ttgtaaataa atttttggct ttgtgtgctg actctatcat tattggtgga\n",
    "            2341 gctaaactta aagccttgaa tttaggtgaa acatttgtca cgcactcaaa gggattgtac\n",
    "            2401 agaaagtgtg ttaaatccag agaagaaact ggcctactca tgcctctaaa agccccaaaa\n",
    "            2461 gaaattatct tcttagaggg agaaacactt cccacagaag tgttaacaga ggaagttgtc\n",
    "            2521 ttgaaaactg gtgatttaca accattagaa caacctacta gtgaagctgt tgaagctcca\n",
    "            2581 ttggttggta caccagtttg tattaacggg cttatgttgc tcgaaatcaa agacacagaa\n",
    "            2641 aagtactgtg cccttgcacc taatatgatg gtaacaaaca ataccttcac actcaaaggc\n",
    "            2701 ggtgcaccaa caaaggttac ttttggtgat gacactgtga tagaagtgca aggttacaag\n",
    "            2761 agtgtgaata tcacttttga acttgatgaa aggattgata aagtacttaa tgagaagtgc\n",
    "            2821 tctgcctata cagttgaact cggtacagaa gtaaatgagt tcgcctgtgt tgtggcagat\n",
    "            2881 gctgtcataa aaactttgca accagtatct gaattactta caccactggg cattgattta\n",
    "            2941 gatgagtgga gtatggctac atactactta tttgatgagt ctggtgagtt taaattggct\n",
    "            3001 tcacatatgt attgttcttt ctaccctcca gatgaggatg aagaagaagg tgattgtgaa\n",
    "            3061 gaagaagagt ttgagccatc aactcaatat gagtatggta ctgaagatga ttaccaaggt\n",
    "            3121 aaacctttgg aatttggtgc cacttctgct gctcttcaac ctgaagaaga gcaagaagaa\n",
    "            3181 gattggttag atgatgatag tcaacaaact gttggtcaac aagacggcag tgaggacaat\n",
    "            3241 cagacaacta ctattcaaac aattgttgag gttcaacctc aattagagat ggaacttaca\n",
    "            3301 ccagttgttc agactattga agtgaatagt tttagtggtt atttaaaact tactgacaat\n",
    "            3361 gtatacatta aaaatgcaga cattgtggaa gaagctaaaa aggtaaaacc aacagtggtt\n",
    "            3421 gttaatgcag ccaatgttta ccttaaacat ggaggaggtg ttgcaggagc cttaaataag\n",
    "            3481 gctactaaca atgccatgca agttgaatct gatgattaca tagctactaa tggaccactt\n",
    "            3541 aaagtgggtg gtagttgtgt tttaagcgga cacaatcttg ctaaacactg tcttcatgtt\n",
    "            3601 gtcggcccaa atgttaacaa aggtgaagac attcaacttc ttaagagtgc ttatgaaaat\n",
    "            3661 tttaatcagc acgaagttct acttgcacca ttattatcag ctggtatttt tggtgctgac\n",
    "            3721 cctatacatt ctttaagagt ttgtgtagat actgttcgca caaatgtcta cttagctgtc\n",
    "            3781 tttgataaaa atctctatga caaacttgtt tcaagctttt tggaaatgaa gagtgaaaag\n",
    "            3841 caagttgaac aaaagatcgc tgagattcct aaagaggaag ttaagccatt tataactgaa\n",
    "            3901 agtaaacctt cagttgaaca gagaaaacaa gatgataaga aaatcaaagc ttgtgttgaa\n",
    "            3961 gaagttacaa caactctgga agaaactaag ttcctcacag aaaacttgtt actttatatt\n",
    "            4021 gacattaatg gcaatcttca tccagattct gccactcttg ttagtgacat tgacatcact\n",
    "            4081 ttcttaaaga aagatgctcc atatatagtg ggtgatgttg ttcaagaggg tgttttaact\n",
    "            4141 gctgtggtta tacctactaa aaaggctggt ggcactactg aaatgctagc gaaagctttg\n",
    "            4201 agaaaagtgc caacagacaa ttatataacc acttacccgg gtcagggttt aaatggttac\n",
    "            4261 actgtagagg aggcaaagac agtgcttaaa aagtgtaaaa gtgcctttta cattctacca\n",
    "            4321 tctattatct ctaatgagaa gcaagaaatt cttggaactg tttcttggaa tttgcgagaa\n",
    "            4381 atgcttgcac atgcagaaga aacacgcaaa ttaatgcctg tctgtgtgga aactaaagcc\n",
    "            4441 atagtttcaa ctatacagcg taaatataag ggtattaaaa tacaagaggg tgtggttgat\n",
    "            4501 tatggtgcta gattttactt ttacaccagt aaaacaactg tagcgtcact tatcaacaca\n",
    "            4561 cttaacgatc taaatgaaac tcttgttaca atgccacttg gctatgtaac acatggctta\n",
    "            4621 aatttggaag aagctgctcg gtatatgaga tctctcaaag tgccagctac agtttctgtt\n",
    "            4681 tcttcacctg atgctgttac agcgtataat ggttatctta cttcttcttc taaaacacct\n",
    "            4741 gaagaacatt ttattgaaac catctcactt gctggttcct ataaagattg gtcctattct\n",
    "            4801 ggacaatcta cacaactagg tatagaattt cttaagagag gtgataaaag tgtatattac\n",
    "            4861 actagtaatc ctaccacatt ccacctagat ggtgaagtta tcacctttga caatcttaag\n",
    "            4921 acacttcttt ctttgagaga agtgaggact attaaggtgt ttacaacagt agacaacatt\n",
    "            4981 aacctccaca cgcaagttgt ggacatgtca atgacatatg gacaacagtt tggtccaact\n",
    "            5041 tatttggatg gagctgatgt tactaaaata aaacctcata attcacatga aggtaaaaca\n",
    "            5101 ttttatgttt tacctaatga tgacactcta cgtgttgagg cttttgagta ctaccacaca\n",
    "            5161 actgatccta gttttctggg taggtacatg tcagcattaa atcacactaa aaagtggaaa\n",
    "            5221 tacccacaag ttaatggttt aacttctatt aaatgggcag ataacaactg ttatcttgcc\n",
    "            5281 actgcattgt taacactcca acaaatagag ttgaagttta atccacctgc tctacaagat\n",
    "            5341 gcttattaca gagcaagggc tggtgaagct gctaactttt gtgcacttat cttagcctac\n",
    "            5401 tgtaataaga cagtaggtga gttaggtgat gttagagaaa caatgagtta cttgtttcaa\n",
    "            5461 catgccaatt tagattcttg caaaagagtc ttgaacgtgg tgtgtaaaac ttgtggacaa\n",
    "            5521 cagcagacaa cccttaaggg tgtagaagct gttatgtaca tgggcacact ttcttatgaa\n",
    "            5581 caatttaaga aaggtgttca gataccttgt acgtgtggta aacaagctac aaaatatcta\n",
    "            5641 gtacaacagg agtcaccttt tgttatgatg tcagcaccac ctgctcagta tgaacttaag\n",
    "            5701 catggtacat ttacttgtgc tagtgagtac actggtaatt accagtgtgg tcactataaa\n",
    "            5761 catataactt ctaaagaaac tttgtattgc atagacggtg ctttacttac aaagtcctca\n",
    "            5821 gaatacaaag gtcctattac ggatgttttc tacaaagaaa acagttacac aacaaccata\n",
    "            5881 aaaccagtta cttataaatt ggatggtgtt gtttgtacag aaattgaccc taagttggac\n",
    "            5941 aattattata agaaagacaa ttcttatttc acagagcaac caattgatct tgtaccaaac\n",
    "            6001 caaccatatc caaacgcaag cttcgataat tttaagtttg tatgtgataa tatcaaattt\n",
    "            6061 gctgatgatt taaaccagtt aactggttat aagaaacctg cttcaagaga gcttaaagtt\n",
    "            6121 acatttttcc ctgacttaaa tggtgatgtg gtggctattg attataaaca ctacacaccc\n",
    "            6181 tcttttaaga aaggagctaa attgttacat aaacctattg tttggcatgt taacaatgca\n",
    "            6241 actaataaag ccacgtataa accaaatacc tggtgtatac gttgtctttg gagcacaaaa\n",
    "            6301 ccagttgaaa catcaaattc gtttgatgnn nnnnnnnnnn nnnnnnnnnn nnnnnnnnnn\n",
    "            6361 nnnnnnnnnn ncgaagatct aaaaccagtc tctgaagaag tagtggaaaa tcctaccata\n",
    "            6421 cagaaagacg ttcttgagtg taatgtgaaa actaccgaag ttgtaggaga cattatactt\n",
    "            6481 aaaccagcaa ataatagttt aaaaattaca gaagaggttg gccacacaga tctaatggct\n",
    "            6541 gcttatgtag acaattctag tcttactatt aagaaaccta atgaattatc tagagtatta\n",
    "            6601 ggtttgaaaa cccttgctac tcatggttta gctgctgtta atagtgtccc ttgggatact\n",
    "            6661 atagctaatt atgctaagcc ttttcttaac aaagttgtta gtacaactac taacatagtt\n",
    "            6721 acacggtgtt taaaccgtgt ttgtactaat tatatgcctt atttctttac tttattgcta\n",
    "            6781 caattgtgta cttttactag aagtacaaat tctagaatta aagcatctat gccgactact\n",
    "            6841 atagcaaaga atactgttaa gagtgtcggt aaattttgtc tagaggcttc atttaattat\n",
    "            6901 ttgaagtcac ctaatttttc taaactgata aatattataa tttggttttt actattaagt\n",
    "            6961 gtttgcctag gttctttaat ctactcaacc gctgctttag gtgttttaat gtctaattta\n",
    "            7021 ggcatgcctt cttactgtac tggttacaga gaaggctatt tgaactctac taatgtcact\n",
    "            7081 attgcaacct actgtactgg ttctatacct tgtagtgttt gtcttagtgg tttagattct\n",
    "            7141 ttagacacct atccttcttt agaaactata caaattacca tttcatcttt taaatgggat\n",
    "            7201 ttaactgctt ttggcttagt tgcagagtgg tttttggcat atattctttt cactaggttt\n",
    "            7261 ttctatgtac ttggattggc tgcaatcatg caattgtttt tcagctattt tgcagtacat\n",
    "            7321 tttattagta attcttggct tatgtggtta ataattaatc ttgtacaaat ggccccgatt\n",
    "            7381 tcagctatgg ttagaatgta catcttcttt gcatcatttt attatgtatg gaaaagttat\n",
    "            7441 gtgcatgttg tagacggttg taattcatca acttgtatga tgtgttacaa acgtaataga\n",
    "            7501 gcaacaagag tcgaatgtac aactattgtt aatggtgtta gaaggtcctt ttatgtctat\n",
    "            7561 gctaatggag gtaaaggctt ttgcaaacta cacaattgga attgtgttaa ttgtgataca\n",
    "            7621 ttctgtgctg gtagtacatt tattagtgat gaagttgcga gagacttgtc actacagttt\n",
    "            7681 aaaagaccaa taaatcctac tgaccagtct tcttacatcg ttgatagtgt tacagtgaag\n",
    "            7741 aatggttcca tccatcttta ctttgataaa gctggtcaaa agacttatga aagacattct\n",
    "            7801 ctctctcatt ttgttaactt agacaacctg agagctaata acactaaagg ttcattgcct\n",
    "            7861 attaatgtta tagtttttga tggtaaatca aaatgtgaag aatcatctgc aaaatcagcg\n",
    "            7921 tctgtttact acagtcagct tatgtgtcaa cctatactgt tactagatca ggcattagtg\n",
    "            7981 tctgatgttg gtgatagtgc ggaagttgca gttaaaatgt ttgatgctta cgttaatacg\n",
    "            8041 ttttcatcaa cttttaacgt accaatggaa aaactcaaaa cactagttgc aactgcagaa\n",
    "            8101 gctgaacttg caaagaatgt gtccttagac aatgtcttat ctacttttat ttcagcagct\n",
    "            8161 cggcaagggt ttgttgattc agatgtagaa actaaagatg ttgttgaatg tcttaaattg\n",
    "            8221 tcacatcaat ctgacataga agttactggc gatagttgta ataactatat gctcacctat\n",
    "            8281 aacaaagttg aaaacatgac accccgtgac cttggtgctt gtattgactg tagtgcgcgt\n",
    "            8341 catattaatg cgcaggtagc aaaaagtcac aacattgctt tgatatggaa cgttaaagat\n",
    "            8401 ttcatgtcat tgtctgaaca actacgaaaa caaatacgta gtgctgctaa aaagaataac\n",
    "            8461 ttacctttta agttgacatg tgcaactact agacaagttg ttaatgttgt aacaacaaag\n",
    "            8521 atagcactta agggtggtaa aattgttaat aattggttga agcagttaat taaagttaca\n",
    "            8581 cttgtgttcc tttttgttgc tgctattttc tatttaataa cacctgttca tgtcatgtct\n",
    "            8641 aaacatactg acttttcaag tgaaatcata ggatacaagg ctattgatgg tggtgtcact\n",
    "            8701 cgtgacatag catctacaga tacttgtttt gctaacaaac atgctgattt tgacacatgg\n",
    "            8761 tttagccagc gtggtggtag ttatactaat gacaaagctt gcccattgat tgctgcagtc\n",
    "            8821 ataacaagag aagtgggttt tgtcgtgcct ggtttgcctg gcacgatatt acgcacaact\n",
    "            8881 aatggtgact ttttgcattt cttacctaga gtttttagtg cagttggtaa catctgttac\n",
    "            8941 acaccatcaa aacttataga gtacactgac tttgcaacat cagcttgtgt tttggctgct\n",
    "            9001 gaatgtacaa tttttaaaga tgcttctggt aagccagtac catattgtta tgataccaat\n",
    "            9061 gtactagaag gttctgttgc ttatgaaagt ttacgccctg acacacgtta tgtgctcatg\n",
    "            9121 gatggctcta ttattcaatt tcctaacacc taccttgaag gttctgttag agtggtaaca\n",
    "            9181 acttttgatt ctgagtactg taggcacggc acttgtgaaa gatcagaagc tggtgtttgt\n",
    "            9241 gtatctacta gtggtagatg ggtacttaac aatgattatt acagatcttt accaggagtt\n",
    "            9301 ttctgtggtg tagatgctgt aaatttactt actaatatgt ttacaccact aattcaacct\n",
    "            9361 attggtgctt tggacatatc agcatctata gtagctggtg gtattgtagc tatcgtagta\n",
    "            9421 acatgccttg cctactattt tatgaggttt agaagagctt ttggtgaata cagtcatgta\n",
    "            9481 gttgccttta atactttact attccttatg tcattcactg tactctgttt aacaccagtt\n",
    "            9541 tactcattct tacctggtgt ttattctgtt atttacttgt acttgacatt ttatcttact\n",
    "            9601 aatgatgttt cttttttagc acatattcag tggatggtta tgttcacacc tttagtacct\n",
    "            9661 ttctggataa caattgctta tatcatttgt atttccacaa agcatttcta ttggttcttt\n",
    "            9721 agtaattacc taaagagacg tgtagtcttt aatggtgttt cctttagtac ttttgaagaa\n",
    "            9781 gctgcgctgt gcaccttttt gttaaataaa gaaatgtatc taaagttgcg tagtgatgtg\n",
    "            9841 ctattacctc ttacgcaata taatagatac ttagctcttt ataataagta caagtatttt\n",
    "            9901 agtggagcaa tggatacaac tagctacaga gaagctgctt gttgtcatct cgcaaaggct\n",
    "            9961 ctcaatgact tcagtaactc aggttctgat gttctttacc aaccaccaca aacctctatc\n",
    "            10021 acctcagctg ttttgcagag tggttttaga aaaatggcat tcccatctgg taaagttgag\n",
    "            10081 ggttgtatgg tacaagtaac ttgtggtaca actacactta acggtctttg gcttgatgac\n",
    "            10141 gtagtttact gtccaagaca tgtgatctgc acctctgaag acatgcttaa ccctaattat\n",
    "            10201 gaagatttac tcattcgtaa gtctaatcat aatttcttgg tacaggctgg taatgttcaa\n",
    "            10261 ctcagggtta ttggacattc tatgcaaaat tgtgtactta agcttaaggt tgatacagcc\n",
    "            10321 aatcctaaga cacctaagta taagtttgtt cgcattcaac caggacagac tttttcagtg\n",
    "            10381 ttagcttgtt acaatggttc accatctggt gtttaccaat gtgctatgag gcccaatttc\n",
    "            10441 actattaagg gttcattcct taatggttca tgtggtagtg ttggttttaa catagattat\n",
    "            10501 gactgtgtct ctttttgtta catgcaccat atggaattac caactggagt tcatgctggc\n",
    "            10561 acagacttag aaggtaactt ttatggacct tttgttgaca ggcaaacagc acaagcagct\n",
    "            10621 ggtacggaca caactattac agttaatgtt ttagcttggt tgtacgctgc tgttataaat\n",
    "            10681 ggagacaggt ggtttctcaa tcgatttacc acaactctta atgactttaa ccttgtggct\n",
    "            10741 atgaagtaca attatgaacc tctaacacaa gaccatgttg acatactagg acctctttct\n",
    "            10801 gctcaaactg gaattgccgt tttagatatg tgtgcttcat taaaagaatt actgcaaaat\n",
    "            10861 ggtatgaatg gacgtaccat attgggtagt gctttattag aagatgaatt tacacctttt\n",
    "            10921 gatgttgtta gacaatgctc aggtgttact ttccaaagtg cagtgaaaag aacaatcaag\n",
    "            10981 ggtacacacc actggttgtt actcacaatt ttgacttcac ttttagtttt agtccagagt\n",
    "            11041 actcaatggt ctttgttctt ttttttgtat gaaaatgcct ttttaccttt tgctatgggt\n",
    "            11101 attattgcta tgtctgcttt tgcaatgatg tttgtcaaac ataagcatgc atttctctgt\n",
    "            11161 ttgtttttgt taccttctct tgccactgta gcttatttta atatggtcta tatgcctgct\n",
    "            11221 agttgggtga tgcgtattat gacatggttg gatatggttg atactagttt gtctggtttt\n",
    "            11281 aagctaaaag actgtgttat gtatgcatca gctgtagtgt tactaatcct tatgacagca\n",
    "            11341 agaactgtgt atgatgatgg tgctaggaga gtgtggacac ttatgaatgt cttgacactc\n",
    "            11401 gtttataaag tttattatgg taatgcttta gatcaagcca tttccatgtg ggctcttata\n",
    "            11461 atctctgtta cttctaacta ctcaggtgta gttacaactg tcatgttttt ggccagaggt\n",
    "            11521 attgttttta tgtgtgttga gtattgccct attttcttca taactggtaa tacacttcag\n",
    "            11581 tgtataatgc tagtttattg tttcttaggc tatttttgta cttgttactt tggcctcttt\n",
    "            11641 tgtttactca accgctactt tagactgact cttggtgttt atgattactt agtttctaca\n",
    "            11701 caggagttta gatatatgaa ttcacaggga ctactcccac ccaagaatag catagatgcc\n",
    "            11761 ttcaaactca acattaaatt gttgggtgtt ggtggcaaac cttgtatcaa agtagccact\n",
    "            11821 gtacagtcta aaatgtcaga tgtaaagtgc acatcagtag tcttactctc agttttgcaa\n",
    "            11881 caactcagag tagaatcatc atctaaattg tgggctcaat gtgtccagtt acacaatgac\n",
    "            11941 attctcttag ctaaagatac tactgaagcc tttgaaaaaa tggtttcact actttctgtt\n",
    "            12001 ttgctttcca tgcagggtgc tgtagacata aacaagcttt gtgaagaaat gctggacaac\n",
    "            12061 agggcaacct tacaagctat agcctcagag tttagttccc ttccatcata tgcagctttt\n",
    "            12121 gctactgctc aagaagctta tgagcaggct gttgctaatg gtgattctga agttgttctt\n",
    "            12181 aaaaagttga agaagtcttt gaatgtggct aaatctgaat ttgaccgtga tgcagccatg\n",
    "            12241 caacgtaagt tggaaaagat ggctgatcaa gctatgaccc aaatgtataa acaggctaga\n",
    "            12301 tctgaggaca agagggcaaa agttactagt gctatgcaga caatgctttt cactatgctt\n",
    "            12361 agaaagttgg ataatgatgc actcaacaac attatcaaca atgcaagaga tggttgtgtt\n",
    "            12421 cccttgaaca taatacctct tacaacagca gccaaactaa tggttgtcat accagactat\n",
    "            12481 aacacatata aaaatacgtg tgatggtaca acatttactt atgcatcagc attgtgggaa\n",
    "            12541 atccaacagg ttgtagatgc agatagtaaa attgttcaac ttagtgaaat tagtatggac\n",
    "            12601 aattcaccta atttagcatg gcctcttatt gtaacagctt taagggccaa ttctgctgtc\n",
    "            12661 aaattacaga ataatgagct tagtcctgtt gcactacgac agatgtcttg tgctgccggt\n",
    "            12721 actacacaaa ctgcttgcac tgatgacaat gcgttagctt actacaacac aacaaaggga\n",
    "            12781 ggtaggtttg tacttgcact gttatccgat ttacaggatt tgaaatgggc tagattccct\n",
    "            12841 aagagtgatg gaactggtac tatctataca gaactggaac caccttgtag gtttgttaca\n",
    "            12901 gacacaccta aaggtcctaa agtgaagtat ttatacttta ttaaaggatt aaacaaccta\n",
    "            12961 aatagaggta tggtacttgg tagtttagct gccacagtac gtctacaagc tggtaatgca\n",
    "            13021 acagaagtgc ctgccaattc aactgtatta tctttctgtg cttttgctgt agatgctgct\n",
    "            13081 aaagcttaca aagattatct agctagtggg ggacaaccaa tcactaattg tgttaagatg\n",
    "            13141 ttgtgtacac acactggtac tggtcaggca ataacagtta caccggaagc caatatggat\n",
    "            13201 caagaatcct ttggtggtgc atcgtgttgt ctgtactgcc gttgccacat agatcatcca\n",
    "            13261 aatcctaaag gattttgtga cttaaaaggt aagtatgtac aaatacctac aacttgtgct\n",
    "            13321 aatgaccctg tgggttttac acttaaaaac acagtctgta ccgtctgcgg tatgtggaaa\n",
    "            13381 ggttatggct gtagttgtga tcaactccgc gaacccatgc ttcagtcagc tgatgcacaa\n",
    "            13441 tcgtttttaa acgggtttgc ggtgtaagtg cagcccgtct tacaccgtgc ggcacaggca\n",
    "            13501 ctagtactga tgtcgtatac agggcttttg acatctacaa tgataaagta gctggttttg\n",
    "            13561 ctaaattcct aaaaactaat tgttgtcgct tccaagaaaa ggacgaagat gacaatttaa\n",
    "            13621 ttgattctta ctttgtagtt aagagacaca ctttctctaa ctaccaacat gaagaaacaa\n",
    "            13681 tttataattt acttaaggat tgtccagctg ttgctaaaca tgacttcttt aagtttagaa\n",
    "            13741 tagacggtga catggtacca catatatcac gtcaacgtct tactaaatac acaatggcag\n",
    "            13801 acctcgtcta tgctttaagg cattttgatg aaggtaattg tgacacatta aaagaaatac\n",
    "            13861 ttgtcacata caattgttgt gatgatgatt atttcaataa aaaggactgg tatgattttg\n",
    "            13921 tagaaaaccc agatatatta cgcgtatacg ccaacttagg tgaacgtgta cgccaagctt\n",
    "            13981 tgttaaaaac agtacaattc tgtgatgcca tgcgaaatgc tggtattgtt ggtgtactga\n",
    "            14041 cattagataa tcaagatctc aatggtaact ggtatgattt cggtgatttc atacaaacca\n",
    "            14101 cgccaggtag tggagttcct gttgtagatt cttattattc attgttaatg cctatattaa\n",
    "            14161 ccttgaccag ggctttaact gcagagtcac atgttgacac tgacttaaca aagccttaca\n",
    "            14221 ttaagtggga tttgttaaaa tatgacttca cggaagagag gttaaaactc tttgaccgtt\n",
    "            14281 attttaaata ttgggatcag acataccacc caaattgtgt taactgtttg gatgacagat\n",
    "            14341 gcattctgca ttgtgcaaac tttaatgttt tattctctac agtgttccca cctacaagtt\n",
    "            14401 ttggaccact agtgagaaaa atatttgttg atggtgttcc atttgtagtt tcaactggat\n",
    "            14461 accacttcag agagctaggt gttgtacata atcaggatgt aaacttacat agctctagac\n",
    "            14521 ttagttttaa ggaattactt gtgtatgctg ctgaccctgc tatgcacgct gcttctggta\n",
    "            14581 atctattact agataaacgc actacgtgct tttcagtagc tgcacttact aacaatgttg\n",
    "            14641 cttttcaaac tgtcaaaccc ggtaatttta acaaagactt ctatgacttt gctgtgtcta\n",
    "            14701 agggtttctt taaggaagga agttctgttg aattaaaaca cttcttcttt gctcaggatg\n",
    "            14761 gtaatgctgc tatcagcgat tatgactact atcgttataa tctaccaaca atgtgtgata\n",
    "            14821 tcagacaact actatttgta gttgaagttg ttgataagta ctttgattgt tacgatggtg\n",
    "            14881 gctgtattaa tgctaaccaa gtcatcgtca acaacctaga caaatcagct ggttttccat\n",
    "            14941 ttaataaatg gggtaaggct agactttatt atgattcaat gagttatgag gatcaagatg\n",
    "            15001 cacttttcgc atatacaaaa cgtaatgtca tccctactat aactcaaatg aatcttaagt\n",
    "            15061 atgccattag tgcaaagaat agagctcgca ccgtagctgg tgtctctatc tgtagtacta\n",
    "            15121 tgaccaatag acagtttcat caaaaattat tgaaatcaat agccgccact agaggagcta\n",
    "            15181 ctgtagtaat tggaacaagc aaattctatg gtggttggca caacatgtta aaaactgttt\n",
    "            15241 atagtgatgt agaaaaccct caccttatgg gttgggatta tcctaaatgt gatagagcca\n",
    "            15301 tgcctaacat gcttagaatt atggcctcac ttgttcttgc tcgcaaacat acaacgtgtt\n",
    "            15361 gtagcttgtc acaccgtttc tatagattag ctaatgagtg tgctcaagta ttgagtgaaa\n",
    "            15421 tggtcatgtg tggcggttca ctatatgtta aaccaggtgg aacctcatca ggagatgcca\n",
    "            15481 caactgctta tgctaatagt gtttttaaca tttgtcaagc tgtcacggcc aatgttaatg\n",
    "            15541 cacttttatc tactgatggt aacaaaattg ccgataagta tgtccgcaat ttacaacaca\n",
    "            15601 gactttatga gtgtctctat agaaatagag atgttgacac agactttgtg aatgagtttt\n",
    "            15661 acgcatattt gcgtaaacat ttctcaatga tgatactctc tgacgatgct gttgtgtgtt\n",
    "            15721 tcaatagcac ttatgcatct caaggtctag tggctagcat aaagaacttt aagtcagttc\n",
    "            15781 tttattatca aaacaatgtt tttatgtctg aagcaaaatg ttggactgag actgacctta\n",
    "            15841 ctaaaggacc tcatgaattt tgctctcaac atacaatgct agttaaacag ggtgatgatt\n",
    "            15901 atgtgtacct tccttaccca gatccatcaa gaatcctagg ggccggctgt tttgtagatg\n",
    "            15961 atatcgtaaa aacagatggt acacttatga ttgaacggtt cgtgtcttta gctatagatg\n",
    "            16021 cttacccact tactaaacat cctaatcagg agtatgctga tgtctttcat ttgtacttac\n",
    "            16081 aatacataag aaagctacat gatgagttaa caggacacat gttagacatg tattctgtta\n",
    "            16141 tgcttactaa tgataacact tcaaggtatt gggaacctga gttttatgag gctatgtaca\n",
    "            16201 caccgcatac agtcttacag gctgttgggg cttgtgttct ttgcaattca cagacttcat\n",
    "            16261 taagatgtgg tgcttgcata cgtagaccat tcttatgttg taaatgctgt tacgaccatg\n",
    "            16321 tcatatcaac atcacataaa ttagtcttgt ctgttaatcc gtatgtttgc aatgctccag\n",
    "            16381 gttgtgatgt cacagatgtg actcaacttt acttaggagg tatgagctat tattgtaaat\n",
    "            16441 cacataaacc acccattagt tttccattgt gtgctaatgg acaagttttt ggtttatata\n",
    "            16501 aaaatacatg tgttggtagc gataatgtta ctgactttaa tgcaattgca acatgtgact\n",
    "            16561 ggacaaatgc tggtgattac attttagcta acacctgtac tgaaagactc aagctttttg\n",
    "            16621 cagcagaaac gctcaaagct actgaggaga catttaaact gtcttatggt attgctactg\n",
    "            16681 tacgtgaagt gctgtctgac agagaattac atctttcatg ggaagttggt aaacctagac\n",
    "            16741 caccacttaa ccgaaattat gtctttactg gttatcgtgt aactaaaaac agtaaagtac\n",
    "            16801 aaataggaga gtacaccttt gaaaaaggtg actatggtga tgctgttgtt taccgaggta\n",
    "            16861 caacaactta caaattaaat gttggtgatt attttgtgct gacatcacat acagtaatgc\n",
    "            16921 cattaagtgc acctacacta gtgccacaag agcactatgt tagaattact ggcttatacc\n",
    "            16981 caacactcaa tatctcagat gagttttcta gcaatgttgc aaattatcaa aaggttggta\n",
    "            17041 tgcaaaagta ttctacactc cagggaccac ctggtactgg taagagtcat tttgctattg\n",
    "            17101 gcctagctct ctactaccct tctgctcgca tagtgtatac agcttgctct catgccgctg\n",
    "            17161 ttgatgcact atgtgagaag gcattaaaat atttgcctat agataaatgt agtagaatta\n",
    "            17221 tacctgcacg tgctcgtgta gagtgttttg ataaattcaa agtgaattca acattagaac\n",
    "            17281 agtatgtctt ttgtactgta aatgcattgc ctgagacgac agcagatata gttgtctttg\n",
    "            17341 atgaaatttc aatggccaca aattatgatt tgagtgttgt caatgccaga ttacgtgcta\n",
    "            17401 agcactatgt gtacattggc gaccctgctc aattacctgc accacgcaca ttgctaacta\n",
    "            17461 agggcacact agaaccagaa tatttcaatt cagtgtgtag acttatgaaa actataggtc\n",
    "            17521 cagacatgtt cctcggaact tgtcggcgtt gtcctgctga aattgttgac actgtgagtg\n",
    "            17581 ctttggttta tgataataag cttaaagcac ataaagacaa atcagctcaa tgctttaaaa\n",
    "            17641 tgttttataa gggtgttatc acgcatgatg tttcatctgc aattaacagg ccacaaatag\n",
    "            17701 gcgtggtaag agaattcctt acacgtaacc ctgcttggag aaaagctgtc tttatttcac\n",
    "            17761 cttataattc acagaatgct gtagcctcaa agattttggg actaccaact caaactgttg\n",
    "            17821 attcatcaca gggctcagaa tatgactatg tcatattcac tcaaaccact gaaacagctc\n",
    "            17881 actcttgtaa tgtaaacaga tttaatgttg ctattaccag agcaaaagta ggcatacttt\n",
    "            17941 gcataatgtc tgatagagac ctttatgaca agttgcaatt tacaagtctt gaaattccac\n",
    "            18001 gtaggaatgt ggcaacttta caagctgaaa atgtaacagg actctttaaa gattgtagta\n",
    "            18061 aggtaatcac tgggttacat cctacacagg cacctacaca cctcagtgtt gacactaaat\n",
    "            18121 tcaaaactga aggtttatgt gttgacatac ctggcatacc taaggacatg acctatagaa\n",
    "            18181 gactcatctc tatgatgggt tttaaaatga attatcaagt taatggttac cctaacatgt\n",
    "            18241 ttatcacccg cgaagaagct ataagacatg tacgtgcatg gattggcttc gatgtcgagg\n",
    "            18301 ggtgtcatgc tactagagaa gctgttggta ccaatttacc tttacagcta ggtttttcta\n",
    "            18361 caggtgttaa cctagttgct gtacctacag gttatgttga tacacctaat aatacagatt\n",
    "            18421 tttccagagt tagtgctaaa ccaccgcctg gagatcaatt taaacacctc ataccactta\n",
    "            18481 tgtacaaagg acttccttgg aatgtagtgc gtataaagat tgtacaaatg ttaagtgaca\n",
    "            18541 cacttaaaaa tctctctgac agagtcgtat ttgtcttatg ggcacatggc tttgagttga\n",
    "            18601 catctatgaa gtattttgtg aaaataggac ctgagcgcac ctgttgtcta tgtgatagac\n",
    "            18661 gtgccacatg cttttccact gcttcagaca cttatgcctg ttggcatcat tctattggat\n",
    "            18721 ttgattacgt ctataatccg tttatgattg atgttcaaca atggggtttt acaggtaacc\n",
    "            18781 tacaaagcaa ccatgatctg tattgtcaag tccatggtaa tgcacatgta gctagttgtg\n",
    "            18841 atgcaatcat gactaggtgt ctagctgtcc acgagtgctt tgttaagcgt gttgactgga\n",
    "            18901 ctattgaata tcctataatt ggtgatgaac tgaagattaa tgcggcttgt agaaaggttc\n",
    "            18961 aacacatggt tgttaaagct gcattattag cagacaaatt cccagttctt cacgacattg\n",
    "            19021 gtaaccctaa agctattaag tgtgtacctc aagctgatgt agaatggaag ttctatgatg\n",
    "            19081 cacagccttg tagtgacaaa gcttataaaa tagaagaatt attctattct tatgccacac\n",
    "            19141 attctgacaa attcacagat ggtgtatgcc tattttggaa ttgcaatgtc gatagatatc\n",
    "            19201 ctgctaattc cattgtttgt agatttgaca ctagagtgct atctaacctt aacttgcctg\n",
    "            19261 gttgtgatgg tggcagtttg tatgtaaata aacatgcatt ccacacacca gcttttgata\n",
    "            19321 aaagtgcttt tgttaattta aaacaattac catttttcta ttactctgac agtccatgtg\n",
    "            19381 agtctcatgg aaaacaagta gtgtcagata tagattatgt accactaaag tctgctacgt\n",
    "            19441 gtataacacg ttgcaattta ggtggtgctg tctgtagaca tcatgctaat gagtacagat\n",
    "            19501 tgtatctcga tgcttataac atgatgatct cagctggctt tagcttgtgg gtttacaaac\n",
    "            19561 aatttgatac ttataacctc tggaacactt ttacaagact tcagagttta gaaaatgtgg\n",
    "            19621 cttttaatgt tgtaaataag ggacactttg atggacaaca gggtgaagta ccagtttcta\n",
    "            19681 tcattaataa cactgtttac acaaaagttg atggtgttga tgtagaattg tttgaaaata\n",
    "            19741 aaacaacatt acctgttaat gtagcatttg agctttgggc taagcgcaac attaaaccag\n",
    "            19801 taccagaggt gaaaatactc aataatttgg gtgtggacat tgctgctaat actgtgatct\n",
    "            19861 gggactacaa aagagatgct ccagcacata tatctactat tggtgtttgt tctatgactg\n",
    "            19921 acatagccaa gaaaccaact gaaacgattt gtgcaccact cactgtcttt tttgatggta\n",
    "            19981 gagttgatgg tcaagtagac ttatttagaa atgcccgtaa tggtgttctt attacagaag\n",
    "            20041 gtagtgttaa aggtttacaa ccatctgtag gtcccaaaca agctagtctt aatggagtca\n",
    "            20101 cattaattgg agaagccgta aaaacacagt tcaattatta taagaaagtt gatggtgttg\n",
    "            20161 tccaacaatt acctgaaact tactttactc agagtagaaa tttacaagaa tttaaaccca\n",
    "            20221 ggagtcaaat ggaaattgat ttcttagaat tagctatgga tgaattcatt gaacggtata\n",
    "            20281 aattagaagg ctatgccttc gaacatatcg tttatggaga ttttagtcat agtcagttag\n",
    "            20341 gtggtttaca tctactgatt ggactagcta aacgttttaa ggaatcacct tttgaattag\n",
    "            20401 aagattttat tcctatggac agtacagtta aaaactattt cataacagat gcgcaaacag\n",
    "            20461 gttcatctaa gtgtgtgtgt tctgttattg atttattact tgatgatttt gttgaaataa\n",
    "            20521 taaaatccca agatttatct gtagtttcta aggttgtcaa agtgactatt gactatacag\n",
    "            20581 aaatttcatt tatgctttgg tgtaaagatg gccatgtaga aacattttac ccaaaattac\n",
    "            20641 aatctagtca agcgtggcaa ccgggtgttg ctatgcctaa tctttacaaa atgcaaagaa\n",
    "            20701 tgctattaga aaagtgtgac cttcaaaatt atggtgatag tgcaacatta cctaaaggca\n",
    "            20761 taatgatgaa tgtcgcaaaa tatactcaac tgtgtcaata tttaaacaca ttaacattag\n",
    "            20821 ctgtacccta taatatgaga gttatacatt ttggtgctgg ttctgataaa ggagttgcac\n",
    "            20881 caggtacagc tgttttaaga cagtggttgc ctacgggtac gctgcttgtc gattcagatc\n",
    "            20941 ttaatgactt tgtctctgat gcagattcaa ctttgattgg tgattgtgca actgtacata\n",
    "            21001 cagctaataa atgggatctc attattagtg atatgtacga ccctaagact aaaaatgtta\n",
    "            21061 caaaagaaaa tgactctaaa gagggttttt tcacttacat ttgtgggttt atacaacaaa\n",
    "            21121 agctagctct tggaggttcc gtggctataa agataacaga acattcttgg aatgctgatc\n",
    "            21181 tttataagct catgggacac ttcgcatggt ggacagcctt tgttactaat gtgaatgcgt\n",
    "            21241 catcatctga agcattttta attggatgta attatcttgg caaaccacgc gaacaaatag\n",
    "            21301 atggttatgt catgcatgca aattacatat tttggaggaa tacaaatcca attcagttgt\n",
    "            21361 cttcctattc tttatttgac atgagtaaat ttccccttaa attaaggggt actgctgtta\n",
    "            21421 tgtctttaaa agaaggtcaa atcaatgata tgattttatc tcttcttagt aaaggtagac\n",
    "            21481 ttataattag agaaaacaac agagttgtta tttctagtga tgttcttgtt aacaactaaa\n",
    "            21541 cgaacaatgt ttgtttttct tgttttattg ccactagtct ctagtcagtg tgttaatctt\n",
    "            21601 acaaccagaa ctcaattacc ccctgcatac actaattctt tcacacgtgg tgtttattac\n",
    "            21661 cctgacaaag ttttcagatc ctcagtttta cattcaactc aggacttgtt cttacctttc\n",
    "            21721 ttttccaatg ttacttggtt ccatgctata catgtctctg ggaccaatgg tactaagagg\n",
    "            21781 tttgataacc ctgtcctacc atttaatgat ggtgtttatt ttgcttccac tgagaagtct\n",
    "            21841 aacataataa gaggctggat ttttggtact actttagatt cgaagaccca gtccctactt\n",
    "            21901 attgttaata acgctactaa tgttgttatt aaagtctgtg aatttcaatt ttgtaatgat\n",
    "            21961 ccatttttgg gtgtttatta ccacaaaaac aacaaaagtt ggatggaaag tgagttcaga\n",
    "            22021 gtttattcta gtgcgaataa ttgcactttt gaatatgtct ctcagccttt tcttatggac\n",
    "            22081 cttgaaggaa aacagggtaa tttcaaaaat cttagggaat ttgtgtttaa gaatattgat\n",
    "            22141 ggttatttta aaatatattc taagcacacg cctattaatt tagtgcgtga tctccctcag\n",
    "            22201 ggtttttcgg ctttagaacc attggtagat ttgccaatag gtattaacat cactaggttt\n",
    "            22261 caaactttac ttgctttaca tagaagttat ttgactcctg gtgattcttc ttcaggttgg\n",
    "            22321 acagctggtg ctgcagctta ttatgtgggt tatcttcaac ctaggacttt tctattaaaa\n",
    "            22381 tataatgaaa atggaaccat tacagatgct gtagactgtg cacttgaccc tctctcagaa\n",
    "            22441 acaaagtgta cgttgaaatc cttcactgta gaaaaaggaa tctatcaaac ttctaacttt\n",
    "            22501 agagtccaac caacagaatc tattgttaga tttcctaata ttacaaactt gtgccctttt\n",
    "            22561 ggtgaagttt ttaacgccac cagatttgca tctgtttatg cttggaacag gaagagaatc\n",
    "            22621 agcaactgtg ttgctgatta ttctgtccta tataattccg catcattttc cacttttaag\n",
    "            22681 tgttatggag tgtctcctac taaattaaat gatctctgct ttactaatgt ctatgcagat\n",
    "            22741 tcatttgtaa ttagaggtga tgaagtcaga caaatcgctc cagggcaaac tggaaagatt\n",
    "            22801 gctgattata attataaatt accagatgat tttacaggct gcgttatagc ttggaattct\n",
    "            22861 aacaatcttg attctaaggt tggtggtaat tataattacc tgtatagatt gtttaggaag\n",
    "            22921 tctaatctca aaccttttga gagagatatt tcaactgaaa tctatcaggc cggtagcaca\n",
    "            22981 ccttgtaatg gtgttgaagg ttttaattgt tactttcctt tacaatcata tggtttccaa\n",
    "            23041 cccactaatg gtgttggtta ccaaccatac agagtagtag tactttcttt tgaacttcta\n",
    "            23101 catgcaccag caactgtttg tggacctaaa aagtctacta atttggttaa aaacaaatgt\n",
    "            23161 gtcaatttca acttcaatgg tttaacaggc acaggtgttc ttactgagtc taacaaaaag\n",
    "            23221 tttctgcctt tccaacaatt tggcagagac attgctgaca ctactgatgc tgtccgtgat\n",
    "            23281 ccacagacac ttgagattct tgacattaca ccatgttctt ttggtggtgt cagtgttata\n",
    "            23341 acaccaggaa caaatacttc taaccaggtt gctgttcttt atcaggatgt taactgcaca\n",
    "            23401 gaagtccctg ttgctattca tgcagatcaa cttactccta cttggcgtgt ttattctaca\n",
    "            23461 ggttctaatg tttttcaaac acgtgcaggc tgtttaatag gggctgaaca tgtcaacaac\n",
    "            23521 tcatatgagt gtgacatacc cattggtgca ggtatatgcg ctagttatca gactcagact\n",
    "            23581 aattctcctc ggcgggcacg tagtgtagct agtcaatcca tcattgccta cactatgtca\n",
    "            23641 cttggtgcag aaaattcagt tgcttactct aataactcta ttgccatacc cacaaatttt\n",
    "            23701 actattagtg ttaccacaga aattctacca gtgtctatga ccaagacatc agtagattgt\n",
    "            23761 acaatgtaca tttgtggtga ttcaactgaa tgcagcaatc ttttgttgca atatggcagt\n",
    "            23821 ttttgtacac aattaaaccg tgctttaact ggaatagctg ttgaacaaga caaaaacacc\n",
    "            23881 caagaagttt ttgcacaagt caaacaaatt tacaaaacac caccaattaa agattttggt\n",
    "            23941 ggttttaatt tttcacaaat attaccagat ccatcaaaac caagcaagag gtcatttatt\n",
    "            24001 gaagatctac ttttcaacaa agtgacactt gcagatgctg gcttcatcaa acaatatggt\n",
    "            24061 gattgccttg gtgatattgc tgctagagac ctcatttgtg cacaaaagtt taacggcctt\n",
    "            24121 actgttttgc cacctttgct cacagatgaa atgattgctc aatacacttc tgcactgtta\n",
    "            24181 gcgggtacaa tcacttctgg ttggaccttt ggtgcaggtg ctgcattaca aataccattt\n",
    "            24241 gctatgcaaa tggcttatag gtttaatggt attggagtta cacagaatgt tctctatgag\n",
    "            24301 aaccaaaaat tgattgccaa ccaatttaat agtgctattg gcaaaattca agactcactt\n",
    "            24361 tcttccacag caagtgcact tggaaaactt caagatgtgg tcaaccaaaa tgcacaagct\n",
    "            24421 ttaaacacgc ttgttaaaca acttagctcc aattttggtg caatttcaag tgttttaaat\n",
    "            24481 gatatccttt cacgtcttga caaagttgag gctgaagtgc aaattgatag gttgatcaca\n",
    "            24541 ggcagacttc aaagtttgca gacatatgtg actcaacaat taattagagc tgcagaaatc\n",
    "            24601 agagcttctg ctaatcttgc tgctactaaa atgtcagagt gtgtacttgg acaatcaaaa\n",
    "            24661 agagttgatt tttgtggaaa gggctatcat cttatgtcct tccctcagtc agcacctcat\n",
    "            24721 ggtgtagtct tcttgcatgt gacttatgtc cctgcacaag aaaagaactt cacaactgct\n",
    "            24781 cctgccattt gtcatgatgg aaaagcacac tttcctcgtg aaggtgtctt tgtttcaaat\n",
    "            24841 ggcacacact ggtttgtaac acaaaggaat ttttatgaac cacaaatcat tactacagac\n",
    "            24901 aacacatttg tgtctggtaa ctgtgatgtt gtaataggaa ttgtcaacaa cacagtttat\n",
    "            24961 gatcctttgc aacctgaatt agactcattc aaggaggagt tagataaata ttttaagaat\n",
    "            25021 catacatcac cagatgttga tttaggtgac atctctggca ttaatgcttc agttgtaaac\n",
    "            25081 attcaaaaag aaattgaccg cctcaatgag gttgccaaga atttaaatga atctctcatc\n",
    "            25141 gatctccaag aacttggaaa gtatgagcag tatataaaat ggccatggta catttggcta\n",
    "            25201 ggttttatag ctggcttgat tgccatagta atggtgacaa ttatgctttg ctgtatgacc\n",
    "            25261 agttgctgta gttgtctcaa gggctgttgt tcttgtggat cctgctgcaa atttgatgaa\n",
    "            25321 gacgactctg agccagtgct caaaggagtc aaattacatt acacataaac gaacttatgg\n",
    "            25381 atttgtttat gagaatcttc acaattggaa ctgtaacttt gaagcaaggt gaaatcaagg\n",
    "            25441 atgctactcc ttcagatttt gttcgcgcta ctgcaacgat accgatacaa gcctcactcc\n",
    "            25501 ctttcggatg gcttattgtt ggcgttgcac ttcttgctgt ttttcagagc gcttccaaaa\n",
    "            25561 tcataaccct caaaaagaga tggcaactag cactctccaa gggtgttcac tttgtttgca\n",
    "            25621 acttgctgtt gttgtttgta acagtttact cacacctttt gctcgttgct gctggtcttg\n",
    "            25681 aagccccttt tctctatctt tatgctttag tctacttctt gcagagtata aactttgtaa\n",
    "            25741 gaataataat gaggctttgg ctttgctgga aatgccgttc caaaaaccca ttactttatg\n",
    "            25801 atgccaacta ttttctttgc tggcatacta attgttacga ctattgtata ccttacaata\n",
    "            25861 gtgtaacttc ttcaattgtc attacttcag gtgatggcac aacaagtcct atttctgaac\n",
    "            25921 atgactacca gattggtggt tatactgaaa aatgggaatc tggagtaaaa gactgtgttg\n",
    "            25981 tattacacag ttacttcact tcagactatt accagctgta ctcaactcaa ttgagtacag\n",
    "            26041 acactggtgt tgaacatgtt accttcttca tctacaataa aattgttgat gagcctgaag\n",
    "            26101 aacatgtcca aattcacaca atcgacggtt catccggagt tgttaatcca gtaatggaac\n",
    "            26161 caatttatga tgaaccgacg acgactacta gcgtgccttt gtaagcacaa gctgatgagt\n",
    "            26221 acgaacttat gtactcattc gtttcggaag agacaggtac gttaatagtt aatagcgtac\n",
    "            26281 ttctttttct tgctttcgtg gtattcttgc tagttacact agccatcctt actgcgcttc\n",
    "            26341 gattgtgtgc gtactgctgc aatattgtta acgtgagtct tgtaaaacct tctttttacg\n",
    "            26401 tttactctcg tgttaaaaat ctgaattctt ctagagttcc tgatcttctg gtctaaacga\n",
    "            26461 actaaatatt atattagttt ttctgtttgg aactttaatt ttagccatgg cagattccaa\n",
    "            26521 cggtactatt accgttgaag agcttaaaaa gctccttgaa caatggaacc tagtaatagg\n",
    "            26581 tttcctattc cttacatgga tttgtcttct acaatttgcc tatgccaaca ggaataggtt\n",
    "            26641 tttgtatata attaagttaa ttttcctctg gctgttatgg ccagtaactt tagcttgttt\n",
    "            26701 tgtgcttgct gctgtttaca gaataaattg gatcaccggt ggaattgcta tcgcaatggc\n",
    "            26761 ttgtcttgta ggcttgatgt ggctcagcta cttcattgct tctttcagac tgtttgcgcg\n",
    "            26821 tacgcgttcc atgtggtcat tcaatccaga aactaacatt cttctcaacg tgccactcca\n",
    "            26881 tggcactatt ctgaccagac cgcttctaga aagtgaactc gtaatcggag ctgtgatcct\n",
    "            26941 tcgtggacat cttcgtattg ctggacacca tctaggacgc tgtgacatca aggacctgcc\n",
    "            27001 taaagaaatc actgttgcta catcacgaac gctttcttat tacaaattgg gagcttcgca\n",
    "            27061 gcgtgtagca ggtgactcag gttttgctgc atacagtcgc tacaggattg gcaactataa\n",
    "            27121 attaaacaca gaccattcca gtagcagtga caatattgct ttgcttgtac agtaagtgac\n",
    "            27181 aacagatgtt tcatctcgtt gactttcagg ttactatagc agagatatta ctaattatta\n",
    "            27241 tgaggacttt taaagtttcc atttggaatc ttgattacat cataaacctc ataattaaaa\n",
    "            27301 atttatctaa gtcactaact gagaataaat attctcaatt agatgaagag caaccaatgg\n",
    "            27361 agattgatta aacgaacatg aaaattattc ttttcttggc actgataaca ctcgctactt\n",
    "            27421 gtgagcttta tcactaccaa gagtgtgtta gaggtacaac agtactttta aaagaacctt\n",
    "            27481 gctcttctgg aacatacgag ggcaattcac catttcatcc tctagctgat aacaaatttg\n",
    "            27541 cactgacttg ctttagcact caatttgctt ttgcttgtcc tgacggcgta aaacacgtct\n",
    "            27601 atcagttacg tgccagatca gtttcaccta aactgttcat cagacaagag gaagttcaag\n",
    "            27661 aactttactc tccaattttt cttattgttg cggcaatagt gtttataaca ctttgcttca\n",
    "            27721 cactcaaaag aaagacagaa tgattgaact ttcattaatt gacttctatt tgtgcttttt\n",
    "            27781 agcctttctg ctattccttg ttttaattat gcttattatc ttttggttct cacttgaact\n",
    "            27841 gcaagatcat aatgaaactt gtcacgccta aacgaacatg aaatttcttg ttttcttagg\n",
    "            27901 aatcatcaca actgtagctg catttcacca agaatgtagt ttacagtcat gtactcaaca\n",
    "            27961 tcaaccatat gtagttgatg acccgtgtcc tattcacttc tattctaaat ggtatattag\n",
    "            28021 agtaggagct agaaaatcag cacctttaat tgaattgtgc gtggatgagg ctggttctaa\n",
    "            28081 atcacccatt cagtacatcg atatcggtaa ttatacagtt tcctgtttac cttttacaat\n",
    "            28141 taattgccag gaacctaaat tgggtagtct tgtagtgcgt tgttcgttct atgaagactt\n",
    "            28201 tttagagtat catgacgttc gtgttgtttt agatttcatc taaacgaaca aactaaaatg\n",
    "            28261 tctgataatg gaccccaaaa tcagcgaaat gcaccccgca ttacgtttgg tggaccctca\n",
    "            28321 gattcaactg gcagtaacca gaatggagaa cgcagtgggg cgcgatcaaa acaacgtcgg\n",
    "            28381 ccccaaggtt tacccaataa tactgcgtct tggttcaccg ctctcactca acatggcaag\n",
    "            28441 gaagacctta aattccctcg aggacaaggc gttccaatta acaccaatag cagtccagat\n",
    "            28501 gaccaaattg gctactaccg aagagctacc agacgaattc gtggtggtga cggtaaaatg\n",
    "            28561 aaagatctca gtccaagatg gtatttctac tacctaggaa ctgggccaga agctggactt\n",
    "            28621 ccctatggtg ctaacaaaga cggcatcata tgggttgcaa ctgagggagc cttgaataca\n",
    "            28681 ccaaaagatc acattggcac ccgcaatcct gctaacaatg ctgcaatcgt gctacaactt\n",
    "            28741 cctcaaggaa caacattgcc aaaaggcttc tacgcagaag ggagcagagg cggcagtcaa\n",
    "            28801 gcctcttctc gttcctcatc acgtagtcgc aacagttcaa gaaattcaac tccaggcagc\n",
    "            28861 agtaggggaa cttctcctgc tagaatggct ggcaatggcg gtgatgctgc tcttgctttg\n",
    "            28921 ctgctgcttg acagattgaa ccagcttgag agcaaaatgt ctggtaaagg ccaacaacaa\n",
    "            28981 caaggccaaa ctgtcactaa gaaatctgct gctgaggctt ctaagaagcc tcggcaaaaa\n",
    "            29041 cgtactgcca ctaaagcata caatgtaaca caagctttcg gcagacgtgg tccagaacaa\n",
    "            29101 acccaaggaa attttgggga ccaggaacta atcagacaag gaactgatta caaacattgg\n",
    "            29161 ccgcaaattg cacaatttgc ccccagcgct tcagcgttct tcggaatgtc gcgcattggc\n",
    "            29221 atggaagtca caccttcggg aacgtggttg acctacacag gtgccatcaa attggatgac\n",
    "            29281 aaagatccaa atttcaaaga tcaagtcatt ttgctgaata agcatattga cgcatacaaa\n",
    "            29341 acattcccac caacagagcc taaaaaggac aaaaagaaga aggctgatga aactcaagcc\n",
    "            29401 ttaccgcaga gacagaagaa acagcaaact gtgactcttc ttcctgctgc agatttggat\n",
    "            29461 gatttctcca aacaattgca acaatccatg agcagtgctg actcaactca ggcctaaact\n",
    "            29521 catgcagacc acacaaggca gatgggctat ataaacgttt tcgcttttcc gtttacgata\n",
    "            29581 tatagtctac tcttgtgcag aatgaattct cgtaactaca tagcacaagt agatgtagtt\n",
    "            29641 aactttaatc tcacatagca atctttaatc agtgtgtaac attagggagg acttgaaaga\n",
    "            29701 gccaccacat tttcaccgag gccacgcgga gtacgatcga gtgtacagtg aacaatgcta\n",
    "            29761 gggagagctg cctatatgga agagccctaa tgtgtaaaat taattttagt agtgctatcc\n",
    "            29821 ccatgtgatt ttaatagctt cttaggagaa tgacaaaa\n",
    "            \")\n",
    "\n",
    "\n",
    "require(stringr)\n",
    "gen <- str_replace_all(genome, \"[:digit:]\", \"\")\n",
    "\n",
    "gen <- str_replace_all(gen, \"[\\r\\n]\" , \"\")\n",
    "gen <- gsub(\" \", \"\", gen, fixed = TRUE)\n",
    "\n",
    "print(\"There is a non-sensical string of n's. The location of the string of nnnnnnnn's is:\")\n",
    "\n",
    "str_locate(gen, \"nnnnnnnnnnnnnnnnnnnnnnnnnnnnnnnnnnnnnnnnnnn\")\n",
    "\n",
    "print(\"Is the string before the n's a multiple of 3?\")\n",
    "\n",
    "nchar(str_sub(gen, 1, str_locate(gen,\"n\")[1] - 1))/3\n",
    "\n",
    "nchar(str_sub(gen, 1, str_locate(gen,\"n\")[1] - 1)) %% 3 == 0\n",
    "\n",
    "print(\"Getting rid of the extra letter...\")\n",
    "\n",
    "gen1 <- str_sub(gen, 1, str_locate(gen,\"n\")[1] - 2)\n",
    "\n",
    "print(\"Is it now divisible by 3?\")\n",
    "\n",
    "nchar(gen1)/3\n",
    "\n",
    "nchar(gen1) %% 3 == 0\n",
    "\n",
    "print(\"At what point does the string of n's end?\")\n",
    "\n",
    "str_locate(gen, \"nnnnnnnnnnnnnnnnnnnnnnnnnnnnnnnnnnnnnnnnnnn\")[2]\n",
    "\n",
    "print(\"Probably two amino acids flank the nonsensical sequence of n's. If we tag on 2 aa to the n's we get a x of 3:\")\n",
    "\n",
    "(nchar(\"nnnnnnnnnnnnnnnnnnnnnnnnnnnnnnnnnnnnnnnnnnn\") + 2)/3\n",
    "\n",
    "print(\"Is the string from the position after the last n to the end divisible by 3?\")\n",
    "\n",
    "nchar(str_sub(gen, str_locate(gen, \"nnnnnnnnnnnnnnnnnnnnnnnnnnnnnnnnnnnnnnnnnnn\")[2]+1))/3\n",
    "\n",
    "nchar(str_sub(gen, str_locate(gen, \"nnnnnnnnnnnnnnnnnnnnnnnnnnnnnnnnnnnnnnnnnnn\")[2]+1)) %% 3 == 0\n",
    "\n",
    "print(\"Since we know that in that position a sensical cct is starting we count backwards in triples to the end of n's\")\n",
    "\n",
    "((str_locate(gen, \"cctcggcgggca\")[1] - 1) - str_locate(gen, \"nnnnnnnnnnnnnnnnnnnnnnnnnnnnnnnnnnnnnnnnnnn\")[2])/3 \n",
    "\n",
    "print(\"... but this is not divisible by 3!\")\n",
    "\n",
    "print(\"We eliminate 1 basis right after the nnnn sequence...\")\n",
    "\n",
    "gen2 <- str_sub(gen, str_locate(gen, \"nnnnnnnnnnnnnnnnnnnnnnnnnnnnnnnnnnnnnnnnnnn\")[2] + 2)\n",
    "\n",
    "print(\"... but now the whole string left after the nonsensical n's is not divisible by 3:\")\n",
    "\n",
    "nchar(gen2)/3\n",
    "\n",
    "print(\"So we need to compensate by taking 2 bases from the end...\")\n",
    "\n",
    "gen2 <- str_sub(gen, str_locate(gen, \"nnnnnnnnnnnnnnnnnnnnnnnnnnnnnnnnnnnnnnnnnnn\")[2]+2, nchar(gen)-2)\n",
    "\n",
    "print(\"Is it now divisible by 3?\")\n",
    "\n",
    "nchar(gen2)/3\n",
    "\n",
    "nchar(gen2) %% 3 == 0\n",
    "\n",
    "gen <- c(gen1, gen2)\n",
    "\n",
    "gen <- paste(gen, collapse = '')\n",
    "\n",
    "print(\"Are there any strange characters besides bases?\")\n",
    "\n",
    "rawToChar(unique(charToRaw(gen))) != 'tcag'\n",
    "\n",
    "print(\"Is the whole rearranged virus divisible by 3?\")\n",
    "\n",
    "nchar(gen) %% 3 == 0\n",
    "\n",
    "print(\"What is the number of characters?\")\n",
    "nchar(gen)"
   ]
  },
  {
   "cell_type": "code",
   "execution_count": 752,
   "metadata": {},
   "outputs": [
    {
     "data": {
      "text/html": [
       "'Is the sequence ccucggcgggca (furin cleavage site) in the virus? FALSE'"
      ],
      "text/latex": [
       "'Is the sequence ccucggcgggca (furin cleavage site) in the virus? FALSE'"
      ],
      "text/markdown": [
       "'Is the sequence ccucggcgggca (furin cleavage site) in the virus? FALSE'"
      ],
      "text/plain": [
       "[1] \"Is the sequence ccucggcgggca (furin cleavage site) in the virus? FALSE\""
      ]
     },
     "metadata": {},
     "output_type": "display_data"
    },
    {
     "data": {
      "text/html": [
       "'Is the sequence cggcgggca (without the leading proline ccu) in the virus? TRUE'"
      ],
      "text/latex": [
       "'Is the sequence cggcgggca (without the leading proline ccu) in the virus? TRUE'"
      ],
      "text/markdown": [
       "'Is the sequence cggcgggca (without the leading proline ccu) in the virus? TRUE'"
      ],
      "text/plain": [
       "[1] \"Is the sequence cggcgggca (without the leading proline ccu) in the virus? TRUE\""
      ]
     },
     "metadata": {},
     "output_type": "display_data"
    },
    {
     "data": {
      "text/html": [
       "'Is the sequence cct cgg cgg gca (ccu = cct) in the virus? TRUE'"
      ],
      "text/latex": [
       "'Is the sequence cct cgg cgg gca (ccu = cct) in the virus? TRUE'"
      ],
      "text/markdown": [
       "'Is the sequence cct cgg cgg gca (ccu = cct) in the virus? TRUE'"
      ],
      "text/plain": [
       "[1] \"Is the sequence cct cgg cgg gca (ccu = cct) in the virus? TRUE\""
      ]
     },
     "metadata": {},
     "output_type": "display_data"
    }
   ],
   "source": [
    "# Is the EL PAIS sequence in the genome?\n",
    "paste0(\"Is the sequence ccucggcgggca (furin cleavage site) in the virus? \",grepl(c(\"ccucggcgggca\"), gen, fixed = TRUE))\n",
    "\n",
    "# Is the same sequence without the leading proline in the genome?\n",
    "paste0(\"Is the sequence cggcgggca (without the leading proline ccu) in the virus? \",grepl(c(\"cggcgggca\"), gen, fixed = TRUE))\n",
    "\n",
    "# But if we look up cct in the DNA codon table it is proline. Hence:\n",
    "paste0(\"Is the sequence cct cgg cgg gca (ccu = cct) in the virus? \", grepl(c(\"cctcggcgggca\"), gen, fixed = TRUE))"
   ]
  },
  {
   "cell_type": "code",
   "execution_count": 753,
   "metadata": {},
   "outputs": [
    {
     "data": {
      "text/html": [
       "'Where is the furin cleave sequence located? 23542'"
      ],
      "text/latex": [
       "'Where is the furin cleave sequence located? 23542'"
      ],
      "text/markdown": [
       "'Where is the furin cleave sequence located? 23542'"
      ],
      "text/plain": [
       "[1] \"Where is the furin cleave sequence located? 23542\""
      ]
     },
     "metadata": {},
     "output_type": "display_data"
    }
   ],
   "source": [
    "paste0(\"Where is the furin cleave sequence located? \",str_locate(gen, \"cctcggcgggca\")[1])"
   ]
  },
  {
   "cell_type": "code",
   "execution_count": 754,
   "metadata": {},
   "outputs": [
    {
     "name": "stdout",
     "output_type": "stream",
     "text": [
      "[1] \"What is the length of the covid19 virus?\"\n"
     ]
    },
    {
     "data": {
      "text/html": [
       "'29811 nucleotid bases.'"
      ],
      "text/latex": [
       "'29811 nucleotid bases.'"
      ],
      "text/markdown": [
       "'29811 nucleotid bases.'"
      ],
      "text/plain": [
       "[1] \"29811 nucleotid bases.\""
      ]
     },
     "metadata": {},
     "output_type": "display_data"
    },
    {
     "data": {
      "text/html": [
       "'0.04 percent is the furin cleavage insert.'"
      ],
      "text/latex": [
       "'0.04 percent is the furin cleavage insert.'"
      ],
      "text/markdown": [
       "'0.04 percent is the furin cleavage insert.'"
      ],
      "text/plain": [
       "[1] \"0.04 percent is the furin cleavage insert.\""
      ]
     },
     "metadata": {},
     "output_type": "display_data"
    },
    {
     "data": {
      "text/html": [
       "'1.6 miles (comparing to flying from Philadelphia to Barcelona).'"
      ],
      "text/latex": [
       "'1.6 miles (comparing to flying from Philadelphia to Barcelona).'"
      ],
      "text/markdown": [
       "'1.6 miles (comparing to flying from Philadelphia to Barcelona).'"
      ],
      "text/plain": [
       "[1] \"1.6 miles (comparing to flying from Philadelphia to Barcelona).\""
      ]
     },
     "metadata": {},
     "output_type": "display_data"
    }
   ],
   "source": [
    "print(\"What is the length of the covid19 virus?\")\n",
    "paste0(nchar(gen), \" nucleotid bases.\")\n",
    "\n",
    "# What percentage of Covid 19 is the insert in the spike proteine enabling furin cleavage:\n",
    "paste0(round(100 * nchar(c(\"cctcggcgggca\"))/nchar(gen),2),\" percent is the furin cleavage insert.\")\n",
    "\n",
    "# If that percentage is compared to the distance in miles from Philadelphia to Barcelona it would be the equivalent of\n",
    "paste0(round(3908 * nchar(c(\"cctcggcgggca\"))/nchar(gen),1),\" miles (comparing to flying from Philadelphia to Barcelona).\")\n",
    "#in miles."
   ]
  },
  {
   "cell_type": "code",
   "execution_count": 755,
   "metadata": {},
   "outputs": [],
   "source": [
    "# Splitting up the bases in triples:\n",
    "triples <- regmatches(gen, gregexpr(\".{3}\", gen))[[1]]"
   ]
  },
  {
   "cell_type": "code",
   "execution_count": 756,
   "metadata": {},
   "outputs": [
    {
     "data": {
      "text/html": [
       "<style>\n",
       ".list-inline {list-style: none; margin:0; padding: 0}\n",
       ".list-inline>li {display: inline-block}\n",
       ".list-inline>li:not(:last-child)::after {content: \"\\00b7\"; padding: 0 .5ex}\n",
       "</style>\n",
       "<ol class=list-inline><li>'ttc'</li><li>'cca'</li><li>'ggt'</li><li>'aac'</li><li>'aaa'</li><li>'cca'</li></ol>\n"
      ],
      "text/latex": [
       "\\begin{enumerate*}\n",
       "\\item 'ttc'\n",
       "\\item 'cca'\n",
       "\\item 'ggt'\n",
       "\\item 'aac'\n",
       "\\item 'aaa'\n",
       "\\item 'cca'\n",
       "\\end{enumerate*}\n"
      ],
      "text/markdown": [
       "1. 'ttc'\n",
       "2. 'cca'\n",
       "3. 'ggt'\n",
       "4. 'aac'\n",
       "5. 'aaa'\n",
       "6. 'cca'\n",
       "\n",
       "\n"
      ],
      "text/plain": [
       "[1] \"ttc\" \"cca\" \"ggt\" \"aac\" \"aaa\" \"cca\""
      ]
     },
     "metadata": {},
     "output_type": "display_data"
    }
   ],
   "source": [
    "head(triples)"
   ]
  },
  {
   "cell_type": "code",
   "execution_count": 757,
   "metadata": {},
   "outputs": [
    {
     "data": {
      "text/html": [
       "<style>\n",
       ".list-inline {list-style: none; margin:0; padding: 0}\n",
       ".list-inline>li {display: inline-block}\n",
       ".list-inline>li:not(:last-child)::after {content: \"\\00b7\"; padding: 0 .5ex}\n",
       "</style>\n",
       "<ol class=list-inline><li>'F'</li><li>'P'</li><li>'G'</li><li>'N'</li><li>'K'</li><li>'P'</li></ol>\n"
      ],
      "text/latex": [
       "\\begin{enumerate*}\n",
       "\\item 'F'\n",
       "\\item 'P'\n",
       "\\item 'G'\n",
       "\\item 'N'\n",
       "\\item 'K'\n",
       "\\item 'P'\n",
       "\\end{enumerate*}\n"
      ],
      "text/markdown": [
       "1. 'F'\n",
       "2. 'P'\n",
       "3. 'G'\n",
       "4. 'N'\n",
       "5. 'K'\n",
       "6. 'P'\n",
       "\n",
       "\n"
      ],
      "text/plain": [
       "[1] \"F\" \"P\" \"G\" \"N\" \"K\" \"P\""
      ]
     },
     "metadata": {},
     "output_type": "display_data"
    }
   ],
   "source": [
    "library(plyr)\n",
    "# Transforming the bases into amino acids:\n",
    "aa <- revalue(triples, c(\"ttt\"=\"F\",\"ttc\"=\"F\",\"tta\"=\"L\",\"ttg\"=\"L\",\"ctt\"=\"L\",\"ctc\"=\"L\",\"cta\"=\"L\",\"ctg\"=\"L\",\"att\"=\"I\",\"atc\"=\"I\",\n",
    "                   \"ata\"=\"I\",\"atg\"=\"M\",\"gtt\"=\"V\",\"gtc\"=\"V\",\"gta\"=\"V\",\"gtg\"=\"V\",\"tct\"=\"S\",\"tcc\"=\"S\",\"tca\"=\"S\",\"tcg\"=\"S\",\n",
    "                   \"cct\"=\"P\",\"ccc\"=\"P\",\"cca\"=\"P\",\"ccg\"=\"P\",\"act\"=\"T\",\"acc\"=\"T\",\"aca\"=\"T\",\"acg\"=\"T\",\"gct\"=\"A\",\"gcc\"=\"A\",\n",
    "                   \"gca\"=\"A\",\"gcg\"=\"A\",\"tat\"=\"Y\",\"tac\"=\"Y\",\"taa\"=\"X\",\"tag\"=\"X\",\"cat\"=\"H\",\"cac\"=\"H\",\"caa\"=\"Q\",\"cag\"=\"Q\",\n",
    "                   \"aat\"=\"N\",\"aac\"=\"N\",\"aaa\"=\"K\",\"aag\"=\"K\",\"gat\"=\"D\",\"gac\"=\"D\",\"gaa\"=\"E\",\"gag\"=\"E\",\"tgt\"=\"C\",\"tgc\"=\"C\",\n",
    "                   \"tga\"=\"X\",\"tgg\"=\"W\", \"cgt\"=\"R\",\"cgc\"=\"R\",\"cga\"=\"R\",\"cgg\"=\"R\",\"agt\"=\"S\",\"agc\"=\"S\",\"aga\"=\"R\",\"agg\"=\"R\",\n",
    "                   \"ggt\"=\"G\",\"ggc\"=\"G\",\"gga\"=\"G\",\"ggg\"=\"G\"))\n",
    "head(aa)"
   ]
  },
  {
   "cell_type": "code",
   "execution_count": 758,
   "metadata": {},
   "outputs": [],
   "source": [
    "# Turning the list of amino acids into a single long string:\n",
    "conc_aa <- paste(aa, collapse = '')"
   ]
  },
  {
   "cell_type": "code",
   "execution_count": 759,
   "metadata": {},
   "outputs": [
    {
     "data": {
      "text/html": [
       "'FPGNKTRSLVDWCMAQYXIHE'"
      ],
      "text/latex": [
       "'FPGNKTRSLVDWCMAQYXIHE'"
      ],
      "text/markdown": [
       "'FPGNKTRSLVDWCMAQYXIHE'"
      ],
      "text/plain": [
       "[1] \"FPGNKTRSLVDWCMAQYXIHE\""
      ]
     },
     "metadata": {},
     "output_type": "display_data"
    }
   ],
   "source": [
    "# Names of amino acids (plus X for non-sensical):\n",
    "rawToChar(unique(charToRaw(conc_aa)))"
   ]
  },
  {
   "cell_type": "code",
   "execution_count": 760,
   "metadata": {},
   "outputs": [
    {
     "data": {
      "text/html": [
       "<style>\n",
       ".list-inline {list-style: none; margin:0; padding: 0}\n",
       ".list-inline>li {display: inline-block}\n",
       ".list-inline>li:not(:last-child)::after {content: \"\\00b7\"; padding: 0 .5ex}\n",
       "</style>\n",
       "<ol class=list-inline><li>'F'</li><li>'P'</li><li>'G'</li><li>'N'</li><li>'K'</li><li>'P'</li></ol>\n"
      ],
      "text/latex": [
       "\\begin{enumerate*}\n",
       "\\item 'F'\n",
       "\\item 'P'\n",
       "\\item 'G'\n",
       "\\item 'N'\n",
       "\\item 'K'\n",
       "\\item 'P'\n",
       "\\end{enumerate*}\n"
      ],
      "text/markdown": [
       "1. 'F'\n",
       "2. 'P'\n",
       "3. 'G'\n",
       "4. 'N'\n",
       "5. 'K'\n",
       "6. 'P'\n",
       "\n",
       "\n"
      ],
      "text/plain": [
       "[1] \"F\" \"P\" \"G\" \"N\" \"K\" \"P\""
      ]
     },
     "metadata": {},
     "output_type": "display_data"
    }
   ],
   "source": [
    "head(aa)"
   ]
  },
  {
   "cell_type": "code",
   "execution_count": 761,
   "metadata": {},
   "outputs": [
    {
     "data": {
      "text/html": [
       "<table>\n",
       "<caption>A matrix: 1 × 2 of type int</caption>\n",
       "<thead>\n",
       "\t<tr><th scope=col>start</th><th scope=col>end</th></tr>\n",
       "</thead>\n",
       "<tbody>\n",
       "\t<tr><td>23542</td><td>23553</td></tr>\n",
       "</tbody>\n",
       "</table>\n"
      ],
      "text/latex": [
       "A matrix: 1 × 2 of type int\n",
       "\\begin{tabular}{ll}\n",
       " start & end\\\\\n",
       "\\hline\n",
       "\t 23542 & 23553\\\\\n",
       "\\end{tabular}\n"
      ],
      "text/markdown": [
       "\n",
       "A matrix: 1 × 2 of type int\n",
       "\n",
       "| start | end |\n",
       "|---|---|\n",
       "| 23542 | 23553 |\n",
       "\n"
      ],
      "text/plain": [
       "     start end  \n",
       "[1,] 23542 23553"
      ]
     },
     "metadata": {},
     "output_type": "display_data"
    }
   ],
   "source": [
    "# Location of the furin receptor:\n",
    "str_locate(gen, \"cctcggcgggca\")"
   ]
  },
  {
   "cell_type": "code",
   "execution_count": 762,
   "metadata": {},
   "outputs": [
    {
     "data": {
      "text/html": [
       "7847"
      ],
      "text/latex": [
       "7847"
      ],
      "text/markdown": [
       "7847"
      ],
      "text/plain": [
       "[1] 7847"
      ]
     },
     "metadata": {},
     "output_type": "display_data"
    }
   ],
   "source": [
    "# Location of the furin receptor counting in amino acids:\n",
    "((str_locate(gen, \"cctcggcgggca\")[1]) - 1)/3"
   ]
  },
  {
   "cell_type": "code",
   "execution_count": 763,
   "metadata": {},
   "outputs": [
    {
     "data": {
      "text/html": [
       "7848"
      ],
      "text/latex": [
       "7848"
      ],
      "text/markdown": [
       "7848"
      ],
      "text/plain": [
       "[1] 7848"
      ]
     },
     "metadata": {},
     "output_type": "display_data"
    }
   ],
   "source": [
    "# Therefore the position of the first furin amino acid is \n",
    "((str_locate(gen, \"cctcggcgggca\")[1]) + 2)/3"
   ]
  },
  {
   "cell_type": "code",
   "execution_count": 764,
   "metadata": {},
   "outputs": [
    {
     "data": {
      "text/html": [
       "'cct'"
      ],
      "text/latex": [
       "'cct'"
      ],
      "text/markdown": [
       "'cct'"
      ],
      "text/plain": [
       "[1] \"cct\""
      ]
     },
     "metadata": {},
     "output_type": "display_data"
    }
   ],
   "source": [
    "# The other way around...\n",
    "triples[((str_locate(gen, \"cctcggcgggca\")[1]+2))/3]"
   ]
  },
  {
   "cell_type": "code",
   "execution_count": 765,
   "metadata": {},
   "outputs": [
    {
     "data": {
      "text/html": [
       "<style>\n",
       ".list-inline {list-style: none; margin:0; padding: 0}\n",
       ".list-inline>li {display: inline-block}\n",
       ".list-inline>li:not(:last-child)::after {content: \"\\00b7\"; padding: 0 .5ex}\n",
       "</style>\n",
       "<ol class=list-inline><li>'cct'</li><li>'cgg'</li><li>'cgg'</li><li>'gca'</li></ol>\n"
      ],
      "text/latex": [
       "\\begin{enumerate*}\n",
       "\\item 'cct'\n",
       "\\item 'cgg'\n",
       "\\item 'cgg'\n",
       "\\item 'gca'\n",
       "\\end{enumerate*}\n"
      ],
      "text/markdown": [
       "1. 'cct'\n",
       "2. 'cgg'\n",
       "3. 'cgg'\n",
       "4. 'gca'\n",
       "\n",
       "\n"
      ],
      "text/plain": [
       "[1] \"cct\" \"cgg\" \"cgg\" \"gca\""
      ]
     },
     "metadata": {},
     "output_type": "display_data"
    }
   ],
   "source": [
    "# The furin cleave is therefore at:\n",
    "triples[7848:7851]"
   ]
  },
  {
   "cell_type": "code",
   "execution_count": 766,
   "metadata": {},
   "outputs": [
    {
     "data": {
      "text/html": [
       "<style>\n",
       ".list-inline {list-style: none; margin:0; padding: 0}\n",
       ".list-inline>li {display: inline-block}\n",
       ".list-inline>li:not(:last-child)::after {content: \"\\00b7\"; padding: 0 .5ex}\n",
       "</style>\n",
       "<ol class=list-inline><li>'cct'</li><li>'cgg'</li><li>'cgg'</li><li>'gca'</li></ol>\n"
      ],
      "text/latex": [
       "\\begin{enumerate*}\n",
       "\\item 'cct'\n",
       "\\item 'cgg'\n",
       "\\item 'cgg'\n",
       "\\item 'gca'\n",
       "\\end{enumerate*}\n"
      ],
      "text/markdown": [
       "1. 'cct'\n",
       "2. 'cgg'\n",
       "3. 'cgg'\n",
       "4. 'gca'\n",
       "\n",
       "\n"
      ],
      "text/plain": [
       "[1] \"cct\" \"cgg\" \"cgg\" \"gca\""
      ]
     },
     "metadata": {},
     "output_type": "display_data"
    },
    {
     "name": "stderr",
     "output_type": "stream",
     "text": [
      "The following `from` values were not present in `x`: ttt, ttc, tta, ttg, ctt, ctc, cta, ctg, att, atc, ata, atg, gtt, gtc, gta, gtg, tct, tcc, tca, tcg, ccc, cca, ccg, act, acc, aca, acg, gct, gcc, gcg, tat, tac, taa, tag, cat, cac, caa, cag, aat, aac, aaa, aag, gat, gac, gaa, gag, tgt, tgc, tga, tgg, cgt, cgc, cga, agt, agc, aga, agg, ggt, ggc, gga, ggg\n",
      "\n"
     ]
    },
    {
     "data": {
      "text/html": [
       "'PRRA'"
      ],
      "text/latex": [
       "'PRRA'"
      ],
      "text/markdown": [
       "'PRRA'"
      ],
      "text/plain": [
       "[1] \"PRRA\""
      ]
     },
     "metadata": {},
     "output_type": "display_data"
    },
    {
     "data": {
      "text/html": [
       "<table>\n",
       "<caption>A matrix: 1 × 2 of type int</caption>\n",
       "<thead>\n",
       "\t<tr><th scope=col>start</th><th scope=col>end</th></tr>\n",
       "</thead>\n",
       "<tbody>\n",
       "\t<tr><td>7848</td><td>7851</td></tr>\n",
       "</tbody>\n",
       "</table>\n"
      ],
      "text/latex": [
       "A matrix: 1 × 2 of type int\n",
       "\\begin{tabular}{ll}\n",
       " start & end\\\\\n",
       "\\hline\n",
       "\t 7848 & 7851\\\\\n",
       "\\end{tabular}\n"
      ],
      "text/markdown": [
       "\n",
       "A matrix: 1 × 2 of type int\n",
       "\n",
       "| start | end |\n",
       "|---|---|\n",
       "| 7848 | 7851 |\n",
       "\n"
      ],
      "text/plain": [
       "     start end \n",
       "[1,] 7848  7851"
      ]
     },
     "metadata": {},
     "output_type": "display_data"
    }
   ],
   "source": [
    "# Location of the furin receptor counting in amino acids through a different method:\n",
    "furin_bases <- regmatches(c(\"cctcggcgggca\"), gregexpr(\".{3}\", c(\"cctcggcgggca\")))[[1]]\n",
    "furin_bases\n",
    "furin_aa <- revalue(furin_bases, c(\"ttt\"=\"F\",\"ttc\"=\"F\",\"tta\"=\"L\",\"ttg\"=\"L\",\"ctt\"=\"L\",\"ctc\"=\"L\",\"cta\"=\"L\",\"ctg\"=\"L\",\"att\"=\"I\",\"atc\"=\"I\",\n",
    "                   \"ata\"=\"I\",\"atg\"=\"M\",\"gtt\"=\"V\",\"gtc\"=\"V\",\"gta\"=\"V\",\"gtg\"=\"V\",\"tct\"=\"S\",\"tcc\"=\"S\",\"tca\"=\"S\",\"tcg\"=\"S\",\n",
    "                   \"cct\"=\"P\",\"ccc\"=\"P\",\"cca\"=\"P\",\"ccg\"=\"P\",\"act\"=\"T\",\"acc\"=\"T\",\"aca\"=\"T\",\"acg\"=\"T\",\"gct\"=\"A\",\"gcc\"=\"A\",\n",
    "                   \"gca\"=\"A\",\"gcg\"=\"A\",\"tat\"=\"Y\",\"tac\"=\"Y\",\"taa\"=\"X\",\"tag\"=\"X\",\"cat\"=\"H\",\"cac\"=\"H\",\"caa\"=\"Q\",\"cag\"=\"Q\",\n",
    "                   \"aat\"=\"N\",\"aac\"=\"N\",\"aaa\"=\"K\",\"aag\"=\"K\",\"gat\"=\"D\",\"gac\"=\"D\",\"gaa\"=\"E\",\"gag\"=\"E\",\"tgt\"=\"C\",\"tgc\"=\"C\",\n",
    "                   \"tga\"=\"X\",\"tgg\"=\"W\", \"cgt\"=\"R\",\"cgc\"=\"R\",\"cga\"=\"R\",\"cgg\"=\"R\",\"agt\"=\"S\",\"agc\"=\"S\",\"aga\"=\"R\",\"agg\"=\"R\",\n",
    "                   \"ggt\"=\"G\",\"ggc\"=\"G\",\"gga\"=\"G\",\"ggg\"=\"G\"))\n",
    "furin_aa <- paste(furin_aa, collapse = '')\n",
    "furin_aa\n",
    "str_locate(conc_aa, furin_aa)"
   ]
  },
  {
   "cell_type": "code",
   "execution_count": 767,
   "metadata": {},
   "outputs": [],
   "source": [
    "# Amino acids in the S glycoprotein (AKA gene \"S\", \"SPIKE GLYCOPROTEIN\" Gene ID 43740568):\n",
    "# Sequence found in here: https://www.ncbi.nlm.nih.gov/nuccore/NC_045512\n",
    "glycoprotein <- \"MFVFLVLLPLVSSQCVNLTTRTQLPPAYTNSFTRGVYYPDKVFRSSVLHSTQDLFLPFFSNVTWFHAIHVSGTNGTKRFDNPVLPFNDGVYFASTEKSNIIRGWIFGTTLDSKTQSLLIVNNATNVVIKVCEFQFCNDPFLGVYYHKNNKSWMESEFRVYSSANNCTFEYVSQPFLMDLEGKQGNFKNLREFVFKNIDGYFKIYSKHTPINLVRDLPQGFSALEPLVDLPIGINITRFQTLLALHRSYLTPGDSSSGWTAGAAAYYVGYLQPRTFLLKYNENGTITDAVDCALDPLSETKCTLKSFTVEKGIYQTSNFRVQPTESIVRFPNITNLCPFGEVFNATRFASVYAWNRKRISNCVADYSVLYNSASFSTFKCYGVSPTKLNDLCFTNVYADSFVIRGDEVRQIAPGQTGKIADYNYKLPDDFTGCVIAWNSNNLDSKVGGNYNYLYRLFRKSNLKPFERDISTEIYQAGSTPCNGVEGFNCYFPLQSYGFQPTNGVGYQPYRVVVLSFELLHAPATVCGPKKSTNLVKNKCVNFNFNGLTGTGVLTESNKKFLPFQQFGRDIADTTDAVRDPQTLEILDITPCSFGGVSVITPGTNTSNQVAVLYQDVNCTEVPVAIHADQLTPTWRVYSTGSNVFQTRAGCLIGAEHVNNSYECDIPIGAGICASYQTQTNSPRRARSVASQSIIAYTMSLGAENSVAYSNNSIAIPTNFTISVTTEILPVSMTKTSVDCTMYICGDSTECSNLLLQYGSFCTQLNRALTGIAVEQDKNTQEVFAQVKQIYKTPPIKDFGGFNFSQILPDPSKPSKRSFIEDLLFNKVTLADAGFIKQYGDCLGDIAARDLICAQKFNGLTVLPPLLTDEMIAQYTSALLAGTITSGWTFGAGAALQIPFAMQMAYRFNGIGVTQNVLYENQKLIANQFNSAIGKIQDSLSSTASALGKLQDVVNQNAQALNTLVKQLSSNFGAISSVLNDILSRLDKVEAEVQIDRLITGRLQSLQTYVTQQLIRAAEIRASANLAATKMSECVLGQSKRVDFCGKGYHLMSFPQSAPHGVVFLHVTYVPAQEKNFTTAPAICHDGKAHFPREGVFVSNGTHWFVTQRNFYEPQIITTDNTFVSGNCDVVIGIVNNTVYDPLQPELDSFKEELDKYFKNHTSPDVDLGDISGINASVVNIQKEIDRLNEVAKNLNESLIDLQELGKYEQYIKWPWYIWLGFIAGLIAIVMVTIMLCCMTSCCSCLKGCCSCGSCCKFDEDDSEPVLKGVKLHYT\""
   ]
  },
  {
   "cell_type": "code",
   "execution_count": 768,
   "metadata": {},
   "outputs": [
    {
     "data": {
      "text/html": [
       "TRUE"
      ],
      "text/latex": [
       "TRUE"
      ],
      "text/markdown": [
       "TRUE"
      ],
      "text/plain": [
       "[1] TRUE"
      ]
     },
     "metadata": {},
     "output_type": "display_data"
    }
   ],
   "source": [
    "# Is the glycoprotein in the genome?\n",
    "grepl(glycoprotein, conc_aa, fixed=TRUE)"
   ]
  },
  {
   "cell_type": "code",
   "execution_count": 769,
   "metadata": {},
   "outputs": [
    {
     "data": {
      "text/html": [
       "<table>\n",
       "<caption>A matrix: 1 × 2 of type int</caption>\n",
       "<thead>\n",
       "\t<tr><th scope=col>start</th><th scope=col>end</th></tr>\n",
       "</thead>\n",
       "<tbody>\n",
       "\t<tr><td>7168</td><td>8440</td></tr>\n",
       "</tbody>\n",
       "</table>\n"
      ],
      "text/latex": [
       "A matrix: 1 × 2 of type int\n",
       "\\begin{tabular}{ll}\n",
       " start & end\\\\\n",
       "\\hline\n",
       "\t 7168 & 8440\\\\\n",
       "\\end{tabular}\n"
      ],
      "text/markdown": [
       "\n",
       "A matrix: 1 × 2 of type int\n",
       "\n",
       "| start | end |\n",
       "|---|---|\n",
       "| 7168 | 8440 |\n",
       "\n"
      ],
      "text/plain": [
       "     start end \n",
       "[1,] 7168  8440"
      ]
     },
     "metadata": {},
     "output_type": "display_data"
    }
   ],
   "source": [
    "#What amino acid locations are part of the glycoprotein?\n",
    "str_locate(conc_aa, glycoprotein)"
   ]
  },
  {
   "cell_type": "code",
   "execution_count": 770,
   "metadata": {},
   "outputs": [
    {
     "data": {
      "text/html": [
       "1273"
      ],
      "text/latex": [
       "1273"
      ],
      "text/markdown": [
       "1273"
      ],
      "text/plain": [
       "[1] 1273"
      ]
     },
     "metadata": {},
     "output_type": "display_data"
    }
   ],
   "source": [
    "nchar(glycoprotein)"
   ]
  },
  {
   "cell_type": "markdown",
   "metadata": {},
   "source": [
    "So the glycoprotein starts at aminoacid number $7168$ and ends at $8440$ ($1273$ aminoacids). The furin cleavage locus $7848.$"
   ]
  },
  {
   "cell_type": "markdown",
   "metadata": {},
   "source": [
    "The receptor binding domain (RBD) in the glycoprotein interacts with the ACE2 receptors. The following is a modified plot from the article https://www.nature.com/articles/nm.3985\n",
    "\n",
    "![ACE2 amino acid composition chimeric MA15 versus SARS-Cov2](https://user-images.githubusercontent.com/9312897/81590440-cb11d400-9388-11ea-97f2-58d072dd60c7.png)\n",
    "\n",
    "The source of the addition (last line) comes from the sentence \"In addition, the five critical aa residues interacting with hACE2 in SARS-CoV RBD (Y442, L472, N479, D480, T487) differ from the corresponding residues in the novel CoVs (L, F, Q, S, N), although these residues possess similar polarity.\" This can be found in:\n",
    " https://journals.lww.com/cmj/Documents/Id_novel_coronavirus_severe_pneumonia_human_study.pdf\n"
   ]
  },
  {
   "cell_type": "markdown",
   "metadata": {},
   "source": [
    "**Amino acid sequence alignment for RBD of spike glycoprotein from five closely related coronaviruses:** \n",
    "\n",
    "![image](https://user-images.githubusercontent.com/9312897/81708593-564da100-943f-11ea-9842-e7474e64de7b.png)\n",
    "\n",
    "The SHC014 spike is the part that was synthesized in 2015 to produce the chimera in https://www.nature.com/articles/nm.3985. The comparison of key parts of the genome is in the picture above (SHCO14 under \"Bat\"). This information was obtained from https://www.sciencedirect.com/science/article/pii/S0006291X20303399"
   ]
  },
  {
   "cell_type": "code",
   "execution_count": 771,
   "metadata": {},
   "outputs": [
    {
     "data": {
      "text/html": [
       "'What is the number of characters of this sequence?'"
      ],
      "text/latex": [
       "'What is the number of characters of this sequence?'"
      ],
      "text/markdown": [
       "'What is the number of characters of this sequence?'"
      ],
      "text/plain": [
       "[1] \"What is the number of characters of this sequence?\""
      ]
     },
     "metadata": {},
     "output_type": "display_data"
    },
    {
     "data": {
      "text/html": [
       "181"
      ],
      "text/latex": [
       "181"
      ],
      "text/markdown": [
       "181"
      ],
      "text/plain": [
       "[1] 181"
      ]
     },
     "metadata": {},
     "output_type": "display_data"
    },
    {
     "data": {
      "text/html": [
       "'Does the sequence belong to the rbd genome?'"
      ],
      "text/latex": [
       "'Does the sequence belong to the rbd genome?'"
      ],
      "text/markdown": [
       "'Does the sequence belong to the rbd genome?'"
      ],
      "text/plain": [
       "[1] \"Does the sequence belong to the rbd genome?\""
      ]
     },
     "metadata": {},
     "output_type": "display_data"
    },
    {
     "data": {
      "text/html": [
       "TRUE"
      ],
      "text/latex": [
       "TRUE"
      ],
      "text/markdown": [
       "TRUE"
      ],
      "text/plain": [
       "[1] TRUE"
      ]
     },
     "metadata": {},
     "output_type": "display_data"
    },
    {
     "data": {
      "text/html": [
       "'Does the sequence belong to the glycoprotein?'"
      ],
      "text/latex": [
       "'Does the sequence belong to the glycoprotein?'"
      ],
      "text/markdown": [
       "'Does the sequence belong to the glycoprotein?'"
      ],
      "text/plain": [
       "[1] \"Does the sequence belong to the glycoprotein?\""
      ]
     },
     "metadata": {},
     "output_type": "display_data"
    },
    {
     "data": {
      "text/html": [
       "TRUE"
      ],
      "text/latex": [
       "TRUE"
      ],
      "text/markdown": [
       "TRUE"
      ],
      "text/plain": [
       "[1] TRUE"
      ]
     },
     "metadata": {},
     "output_type": "display_data"
    },
    {
     "data": {
      "text/html": [
       "'Is the furin sequence within this sequence?'"
      ],
      "text/latex": [
       "'Is the furin sequence within this sequence?'"
      ],
      "text/markdown": [
       "'Is the furin sequence within this sequence?'"
      ],
      "text/plain": [
       "[1] \"Is the furin sequence within this sequence?\""
      ]
     },
     "metadata": {},
     "output_type": "display_data"
    },
    {
     "data": {
      "text/html": [
       "FALSE"
      ],
      "text/latex": [
       "FALSE"
      ],
      "text/markdown": [
       "FALSE"
      ],
      "text/plain": [
       "[1] FALSE"
      ]
     },
     "metadata": {},
     "output_type": "display_data"
    },
    {
     "data": {
      "text/html": [
       "'... the furin is not part of the RBD!'"
      ],
      "text/latex": [
       "'... the furin is not part of the RBD!'"
      ],
      "text/markdown": [
       "'... the furin is not part of the RBD!'"
      ],
      "text/plain": [
       "[1] \"... the furin is not part of the RBD!\""
      ]
     },
     "metadata": {},
     "output_type": "display_data"
    },
    {
     "data": {
      "text/html": [
       "'The amino acids in the RBD correspond to:'"
      ],
      "text/latex": [
       "'The amino acids in the RBD correspond to:'"
      ],
      "text/markdown": [
       "'The amino acids in the RBD correspond to:'"
      ],
      "text/plain": [
       "[1] \"The amino acids in the RBD correspond to:\""
      ]
     },
     "metadata": {},
     "output_type": "display_data"
    },
    {
     "data": {
      "text/html": [
       "<table>\n",
       "<caption>A matrix: 1 × 2 of type int</caption>\n",
       "<thead>\n",
       "\t<tr><th scope=col>start</th><th scope=col>end</th></tr>\n",
       "</thead>\n",
       "<tbody>\n",
       "\t<tr><td>7503</td><td>7683</td></tr>\n",
       "</tbody>\n",
       "</table>\n"
      ],
      "text/latex": [
       "A matrix: 1 × 2 of type int\n",
       "\\begin{tabular}{ll}\n",
       " start & end\\\\\n",
       "\\hline\n",
       "\t 7503 & 7683\\\\\n",
       "\\end{tabular}\n"
      ],
      "text/markdown": [
       "\n",
       "A matrix: 1 × 2 of type int\n",
       "\n",
       "| start | end |\n",
       "|---|---|\n",
       "| 7503 | 7683 |\n",
       "\n"
      ],
      "text/plain": [
       "     start end \n",
       "[1,] 7503  7683"
      ]
     },
     "metadata": {},
     "output_type": "display_data"
    },
    {
     "name": "stdout",
     "output_type": "stream",
     "text": [
      "[1] \"How far into the glycoprotein does this segment start?\"\n"
     ]
    },
    {
     "data": {
      "text/html": [
       "336"
      ],
      "text/latex": [
       "336"
      ],
      "text/markdown": [
       "336"
      ],
      "text/plain": [
       "[1] 336"
      ]
     },
     "metadata": {},
     "output_type": "display_data"
    },
    {
     "name": "stdout",
     "output_type": "stream",
     "text": [
      "[1] \"Bingo! The numbering is really just the position of the amino acids within the glycoprotein.\"\n"
     ]
    }
   ],
   "source": [
    "# Checking that the illustration above does belong to the genome:\n",
    "rbd <- c(\"CPFGEVFNATRFASVYAWNRKRISNCVADYSVLYNSASFSTFKCYGVSPTKLNDLCFTNVYADSFVIRGDEVRQIAPGQTGKIADYNYKLPDDFTGCVIAWNSNNLDSKVGGNYNYLYRLFRKSNLKPFERDISTEIYQAGSTPCNGVEGFNCYFPLQSYGFQPTNGVGYQPYRVVVLSFE\")\n",
    "paste(\"What is the number of characters of this sequence?\")\n",
    "nchar(rbd)\n",
    "paste(\"Does the sequence belong to the rbd genome?\")\n",
    "grepl(rbd, conc_aa, fixed=TRUE)\n",
    "paste(\"Does the sequence belong to the glycoprotein?\")\n",
    "grepl(rbd, glycoprotein, fixed=TRUE)\n",
    "paste(\"Is the furin sequence within this sequence?\")\n",
    "grepl(furin_aa, rbd, fixed=TRUE)\n",
    "paste(\"... the furin is not part of the RBD!\")\n",
    "paste(\"The amino acids in the RBD correspond to:\")\n",
    "str_locate(conc_aa,rbd)\n",
    "print(\"How far into the glycoprotein does this segment start?\")\n",
    "str_locate(conc_aa, rbd)[1] - str_locate(conc_aa, glycoprotein)[1] + 1\n",
    "print(\"Bingo! The numbering is really just the position of the amino acids within the glycoprotein.\")"
   ]
  },
  {
   "cell_type": "code",
   "execution_count": 772,
   "metadata": {},
   "outputs": [
    {
     "data": {
      "text/html": [
       "FALSE"
      ],
      "text/latex": [
       "FALSE"
      ],
      "text/markdown": [
       "FALSE"
      ],
      "text/plain": [
       "[1] FALSE"
      ]
     },
     "metadata": {},
     "output_type": "display_data"
    },
    {
     "data": {
      "text/html": [
       "'... the furin insert is not part of the RBD.'"
      ],
      "text/latex": [
       "'... the furin insert is not part of the RBD.'"
      ],
      "text/markdown": [
       "'... the furin insert is not part of the RBD.'"
      ],
      "text/plain": [
       "[1] \"... the furin insert is not part of the RBD.\""
      ]
     },
     "metadata": {},
     "output_type": "display_data"
    }
   ],
   "source": [
    "grepl(c(\"cctcggcgggca\"),rbd, fixed = TRUE)\n",
    "paste(\"... the furin insert is not part of the RBD.\")"
   ]
  },
  {
   "cell_type": "markdown",
   "metadata": {},
   "source": [
    "The furin cleavage is in the polybasic cleavage site.\n",
    "![image.png](https://user-images.githubusercontent.com/9312897/81811819-3c6d9600-94f3-11ea-8bb9-f5ddb5d8aa7e.png)"
   ]
  },
  {
   "cell_type": "code",
   "execution_count": 773,
   "metadata": {},
   "outputs": [
    {
     "data": {
      "text/html": [
       "<ol>\n",
       "\t<li><table>\n",
       "<caption>A matrix: 14 × 2 of type int</caption>\n",
       "<thead>\n",
       "\t<tr><th scope=col>start</th><th scope=col>end</th></tr>\n",
       "</thead>\n",
       "<tbody>\n",
       "\t<tr><td>  3</td><td>  3</td></tr>\n",
       "\t<tr><td>  7</td><td>  7</td></tr>\n",
       "\t<tr><td> 12</td><td> 12</td></tr>\n",
       "\t<tr><td> 39</td><td> 39</td></tr>\n",
       "\t<tr><td> 42</td><td> 42</td></tr>\n",
       "\t<tr><td> 57</td><td> 57</td></tr>\n",
       "\t<tr><td> 65</td><td> 65</td></tr>\n",
       "\t<tr><td> 94</td><td> 94</td></tr>\n",
       "\t<tr><td>121</td><td>121</td></tr>\n",
       "\t<tr><td>129</td><td>129</td></tr>\n",
       "\t<tr><td>151</td><td>151</td></tr>\n",
       "\t<tr><td>155</td><td>155</td></tr>\n",
       "\t<tr><td>162</td><td>162</td></tr>\n",
       "\t<tr><td>180</td><td>180</td></tr>\n",
       "</tbody>\n",
       "</table>\n",
       "</li>\n",
       "</ol>\n"
      ],
      "text/latex": [
       "\\begin{enumerate}\n",
       "\\item A matrix: 14 × 2 of type int\n",
       "\\begin{tabular}{ll}\n",
       " start & end\\\\\n",
       "\\hline\n",
       "\t   3 &   3\\\\\n",
       "\t   7 &   7\\\\\n",
       "\t  12 &  12\\\\\n",
       "\t  39 &  39\\\\\n",
       "\t  42 &  42\\\\\n",
       "\t  57 &  57\\\\\n",
       "\t  65 &  65\\\\\n",
       "\t  94 &  94\\\\\n",
       "\t 121 & 121\\\\\n",
       "\t 129 & 129\\\\\n",
       "\t 151 & 151\\\\\n",
       "\t 155 & 155\\\\\n",
       "\t 162 & 162\\\\\n",
       "\t 180 & 180\\\\\n",
       "\\end{tabular}\n",
       "\n",
       "\\end{enumerate}\n"
      ],
      "text/markdown": [
       "1. \n",
       "A matrix: 14 × 2 of type int\n",
       "\n",
       "| start | end |\n",
       "|---|---|\n",
       "|   3 |   3 |\n",
       "|   7 |   7 |\n",
       "|  12 |  12 |\n",
       "|  39 |  39 |\n",
       "|  42 |  42 |\n",
       "|  57 |  57 |\n",
       "|  65 |  65 |\n",
       "|  94 |  94 |\n",
       "| 121 | 121 |\n",
       "| 129 | 129 |\n",
       "| 151 | 151 |\n",
       "| 155 | 155 |\n",
       "| 162 | 162 |\n",
       "| 180 | 180 |\n",
       "\n",
       "\n",
       "\n",
       "\n"
      ],
      "text/plain": [
       "[[1]]\n",
       "      start end\n",
       " [1,]     3   3\n",
       " [2,]     7   7\n",
       " [3,]    12  12\n",
       " [4,]    39  39\n",
       " [5,]    42  42\n",
       " [6,]    57  57\n",
       " [7,]    65  65\n",
       " [8,]    94  94\n",
       " [9,]   121 121\n",
       "[10,]   129 129\n",
       "[11,]   151 151\n",
       "[12,]   155 155\n",
       "[13,]   162 162\n",
       "[14,]   180 180\n"
      ]
     },
     "metadata": {},
     "output_type": "display_data"
    }
   ],
   "source": [
    "# There is Phenylalanine that seems particularly key in attaching to the ACE2. Here are all the phenylalanines in the RBD:\n",
    "str_locate_all(rbd, \"F\")"
   ]
  },
  {
   "cell_type": "code",
   "execution_count": 774,
   "metadata": {},
   "outputs": [
    {
     "data": {
      "text/html": [
       "<style>\n",
       ".list-inline {list-style: none; margin:0; padding: 0}\n",
       ".list-inline>li {display: inline-block}\n",
       ".list-inline>li:not(:last-child)::after {content: \"\\00b7\"; padding: 0 .5ex}\n",
       "</style>\n",
       "<ol class=list-inline><li>338</li><li>342</li><li>347</li><li>374</li><li>377</li><li>392</li><li>400</li><li>429</li><li>456</li><li>464</li><li>486</li><li>490</li><li>497</li><li>515</li></ol>\n"
      ],
      "text/latex": [
       "\\begin{enumerate*}\n",
       "\\item 338\n",
       "\\item 342\n",
       "\\item 347\n",
       "\\item 374\n",
       "\\item 377\n",
       "\\item 392\n",
       "\\item 400\n",
       "\\item 429\n",
       "\\item 456\n",
       "\\item 464\n",
       "\\item 486\n",
       "\\item 490\n",
       "\\item 497\n",
       "\\item 515\n",
       "\\end{enumerate*}\n"
      ],
      "text/markdown": [
       "1. 338\n",
       "2. 342\n",
       "3. 347\n",
       "4. 374\n",
       "5. 377\n",
       "6. 392\n",
       "7. 400\n",
       "8. 429\n",
       "9. 456\n",
       "10. 464\n",
       "11. 486\n",
       "12. 490\n",
       "13. 497\n",
       "14. 515\n",
       "\n",
       "\n"
      ],
      "text/plain": [
       " [1] 338 342 347 374 377 392 400 429 456 464 486 490 497 515"
      ]
     },
     "metadata": {},
     "output_type": "display_data"
    }
   ],
   "source": [
    "# The position with respect to the origin of the glycoprotein is:\n",
    "335 + c(3,7,12,39,42,57,65,94,121,129,151,155,162,180)"
   ]
  },
  {
   "cell_type": "code",
   "execution_count": 775,
   "metadata": {},
   "outputs": [
    {
     "data": {
      "text/html": [
       "7653"
      ],
      "text/latex": [
       "7653"
      ],
      "text/markdown": [
       "7653"
      ],
      "text/plain": [
       "[1] 7653"
      ]
     },
     "metadata": {},
     "output_type": "display_data"
    }
   ],
   "source": [
    "# And with respect to the beginning of the code:\n",
    "7167 + 486"
   ]
  },
  {
   "cell_type": "markdown",
   "metadata": {},
   "source": [
    "The phenilalanine @486 gets into a hydrophobic pocket of the ACE2:\n",
    "\n",
    "![image](https://user-images.githubusercontent.com/9312897/81747370-fc1c0280-9475-11ea-8f1b-caaeafa76f74.png)"
   ]
  },
  {
   "cell_type": "code",
   "execution_count": 776,
   "metadata": {},
   "outputs": [
    {
     "name": "stdout",
     "output_type": "stream",
     "text": [
      "[1] \"The spike of the chimeric bat is...\"\n"
     ]
    },
    {
     "data": {
      "text/html": [
       "'CPFGEVFNATTFPSVYAWERKRISNCVADYSVLYNSTSFSTFKCYGVSATKLNDLCFSNVYADSFVVKGDDVRQIAPGQTGVIADYNYKLPDDFLGCVLAWNTNSKDSSTSGNYNYLYRWVRRSKLNPYERDLSNDIYSPGGQSCSAVXGPNCYNPLRPYGFFTTAGVGHQPYRVVVLSFE'"
      ],
      "text/latex": [
       "'CPFGEVFNATTFPSVYAWERKRISNCVADYSVLYNSTSFSTFKCYGVSATKLNDLCFSNVYADSFVVKGDDVRQIAPGQTGVIADYNYKLPDDFLGCVLAWNTNSKDSSTSGNYNYLYRWVRRSKLNPYERDLSNDIYSPGGQSCSAVXGPNCYNPLRPYGFFTTAGVGHQPYRVVVLSFE'"
      ],
      "text/markdown": [
       "'CPFGEVFNATTFPSVYAWERKRISNCVADYSVLYNSTSFSTFKCYGVSATKLNDLCFSNVYADSFVVKGDDVRQIAPGQTGVIADYNYKLPDDFLGCVLAWNTNSKDSSTSGNYNYLYRWVRRSKLNPYERDLSNDIYSPGGQSCSAVXGPNCYNPLRPYGFFTTAGVGHQPYRVVVLSFE'"
      ],
      "text/plain": [
       "[1] \"CPFGEVFNATTFPSVYAWERKRISNCVADYSVLYNSTSFSTFKCYGVSATKLNDLCFSNVYADSFVVKGDDVRQIAPGQTGVIADYNYKLPDDFLGCVLAWNTNSKDSSTSGNYNYLYRWVRRSKLNPYERDLSNDIYSPGGQSCSAVXGPNCYNPLRPYGFFTTAGVGHQPYRVVVLSFE\""
      ]
     },
     "metadata": {},
     "output_type": "display_data"
    },
    {
     "data": {
      "text/html": [
       "181"
      ],
      "text/latex": [
       "181"
      ],
      "text/markdown": [
       "181"
      ],
      "text/plain": [
       "[1] 181"
      ]
     },
     "metadata": {},
     "output_type": "display_data"
    }
   ],
   "source": [
    "print(\"The spike of the chimeric bat is...\")\n",
    "(Bat324 <- c(\"CPFGEVFNATTFPSVYAWERKRISNCVADYSVLYNSTSFSTFKCYGVSATKLNDLCFSNVYADSFVVKGDDVRQIAPGQTGVIADYNYKLPDDFLGCVLAWNTNSKDSSTSGNYNYLYRWVRRSKLNPYERDLSNDIYSPGGQSCSAVXGPNCYNPLRPYGFFTTAGVGHQPYRVVVLSFE\"))\n",
    "nchar(Bat324)"
   ]
  }
 ],
 "metadata": {
  "kernelspec": {
   "display_name": "R",
   "language": "R",
   "name": "ir"
  },
  "language_info": {
   "codemirror_mode": "r",
   "file_extension": ".r",
   "mimetype": "text/x-r-source",
   "name": "R",
   "pygments_lexer": "r",
   "version": "3.5.2"
  }
 },
 "nbformat": 4,
 "nbformat_minor": 4
}
